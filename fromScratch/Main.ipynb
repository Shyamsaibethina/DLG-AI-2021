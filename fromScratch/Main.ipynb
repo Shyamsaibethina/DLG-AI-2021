{
 "cells": [
  {
   "cell_type": "markdown",
   "id": "26f54689",
   "metadata": {},
   "source": [
    "# Quick Notes"
   ]
  },
  {
   "cell_type": "markdown",
   "id": "071b56b3",
   "metadata": {},
   "source": [
    "## Terminology"
   ]
  },
  {
   "cell_type": "markdown",
   "id": "9f0c12ea",
   "metadata": {},
   "source": [
    "Environment is what out agent explores.\n",
    "\n",
    "Agent is what is exploring the environment\n",
    "\n",
    "State is the status of the agent\n",
    "\n",
    "Action is what the agent does\n",
    "\n",
    "Reward is the positive/negative reinforcement for certain actions. Tries to maximize the reward. Similar to loss function"
   ]
  },
  {
   "cell_type": "markdown",
   "id": "4199a932",
   "metadata": {},
   "source": [
    "## Q-Learning"
   ]
  },
  {
   "cell_type": "markdown",
   "id": "3e114053",
   "metadata": {},
   "source": [
    "Involves a matrix of action-reward values which has the shape of (number of possible states, number of possible actions)\n",
    "Each value tells us what reward we expect to take with a certain action in a certain state"
   ]
  }
 ],
 "metadata": {
  "kernelspec": {
   "display_name": "Python 3",
   "language": "python",
   "name": "python3"
  },
  "language_info": {
   "codemirror_mode": {
    "name": "ipython",
    "version": 3
   },
   "file_extension": ".py",
   "mimetype": "text/x-python",
   "name": "python",
   "nbconvert_exporter": "python",
   "pygments_lexer": "ipython3",
   "version": "3.8.8"
  }
 },
 "nbformat": 4,
 "nbformat_minor": 5
}
