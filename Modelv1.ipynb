{
 "cells": [
  {
   "cell_type": "markdown",
   "id": "8d2ce7a8",
   "metadata": {},
   "source": [
    "# Imports"
   ]
  },
  {
   "cell_type": "code",
   "execution_count": 1,
   "id": "9307b2fc",
   "metadata": {},
   "outputs": [],
   "source": [
    "import numpy as np\n",
    "import _pickle as pickle\n",
    "import gym\n",
    "import time\n",
    "import matplotlib.pyplot as plt\n",
    "import tensorflow as tf\n",
    "import tensorflow.keras.layers as layers\n",
    "import tensorflow.keras.initializers as initializers"
   ]
  },
  {
   "cell_type": "markdown",
   "id": "80608ff0",
   "metadata": {},
   "source": [
    "# Memory"
   ]
  },
  {
   "cell_type": "code",
   "execution_count": 2,
   "id": "fd89a440",
   "metadata": {},
   "outputs": [],
   "source": [
    "class Memory:\n",
    "    def __init__(self, max_memory):\n",
    "        self.max_memory = max_memory\n",
    "        self.samples = []\n",
    "    \n",
    "    def add_sample(self, sample):\n",
    "        self.samples.append(sample)\n",
    "        if len(self.samples) > self.max_memory:\n",
    "            self.sample.pop(0)\n",
    "            \n",
    "    def sample(self, no_samples):\n",
    "        if no_samples > len(self.samples):\n",
    "            return random.sample(self.samples, len(self.samples))\n",
    "        else:\n",
    "            return random.sample(self.samples, no_samples)"
   ]
  },
  {
   "cell_type": "markdown",
   "id": "4c82be43",
   "metadata": {},
   "source": [
    "# Model"
   ]
  },
  {
   "cell_type": "code",
   "execution_count": 3,
   "id": "bc6a6e2f",
   "metadata": {},
   "outputs": [],
   "source": [
    "initializer = initializers.GlorotNormal\n",
    "\n",
    "x_in = layers.Input(shape = (6400,))\n",
    "x = layers.Dense(200, kernel_initializer= initializer, activation=\"relu\")(x_in)\n",
    "x_out = layers.Dense(1, activation=\"sigmoid\")(x)\n",
    "\n",
    "model = tf.keras.Model(x_in, x_out)\n",
    "\n",
    "model.compile(optimizer = \"adam\", loss = \"binary_crossentropy\", metrics = [\"acc\"])"
   ]
  },
  {
   "cell_type": "code",
   "execution_count": 4,
   "id": "1255fdd0",
   "metadata": {
    "scrolled": true
   },
   "outputs": [
    {
     "name": "stdout",
     "output_type": "stream",
     "text": [
      "Model: \"model\"\n",
      "_________________________________________________________________\n",
      "Layer (type)                 Output Shape              Param #   \n",
      "=================================================================\n",
      "input_1 (InputLayer)         [(None, 6400)]            0         \n",
      "_________________________________________________________________\n",
      "dense (Dense)                (None, 200)               1280200   \n",
      "_________________________________________________________________\n",
      "dense_1 (Dense)              (None, 1)                 201       \n",
      "=================================================================\n",
      "Total params: 1,280,401\n",
      "Trainable params: 1,280,401\n",
      "Non-trainable params: 0\n",
      "_________________________________________________________________\n"
     ]
    }
   ],
   "source": [
    "model.summary()"
   ]
  },
  {
   "cell_type": "markdown",
   "id": "66923ea3",
   "metadata": {},
   "source": [
    "# GameRunner"
   ]
  },
  {
   "cell_type": "code",
   "execution_count": 16,
   "id": "ac71a467",
   "metadata": {},
   "outputs": [],
   "source": [
    "class GameRunner:\n",
    "    def __init__(self, env, model, memory, epsilon, max_eps, min_eps, game_dimensions, epsilon_greedy_frames, resume = False, render = True):\n",
    "        self.env = env\n",
    "        self.model = model\n",
    "        self.memory = memory\n",
    "        self.eps = epsilon\n",
    "        self.max_eps = max_eps\n",
    "        self.min_eps = min_eps\n",
    "        self.render = render\n",
    "        self.resume = resume\n",
    "        self.epsilon_greedy_frames = epsilon_greedy_frames\n",
    "        self.gameDimensions = game_dimensions\n",
    "        self.rewards = []\n",
    "        self.max_x = []\n",
    "    \n",
    "    def run(self):\n",
    "        observation = self.env.reset()\n",
    "        reward_sum = 0\n",
    "        running_reward = None\n",
    "        prev_frame = None\n",
    "        episode_number = 0\n",
    "        \n",
    "        while True:\n",
    "            if self.render:\n",
    "                env.render()\n",
    "\n",
    "            if self.resume:\n",
    "                model.load_weights(\"ModelWeights\")\n",
    "            \n",
    "            curr_frame = self.prepro(observation)\n",
    "            change_in_frame = curr_frame - prev_frame if prev_frame is not None else np.zeros(self.gameDimensions)\n",
    "            prev_frame = curr_frame\n",
    "            \n",
    "            action = self.choose_action(change_in_frame)\n",
    "            \n",
    "            observation, reward, done, _ = self.env.step(action) \n",
    "\n",
    "            y = 0 if action == 2 else 1\n",
    "\n",
    "            self.memory.add_sample((change_in_frame, y, reward))\n",
    "            #self.replay()\n",
    "\n",
    "            # Decay probability of taking random action\n",
    "            epsilon_interval = (self.max_eps - self.min_eps)\n",
    "            self.eps -= epsilon_interval / self.epsilon_greedy_frames\n",
    "            self.eps = max(self.eps, self.min_eps)\n",
    "            \n",
    "            reward_sum += reward\n",
    "\n",
    "            if done:\n",
    "                running_reward = reward_sum if running_reward is None else running_reward * 0.99 + reward_sum * 0.01\n",
    "                print ('resetting env. episode reward total was %f. running mean: %f' % (reward_sum, running_reward))\n",
    "                reward_sum = 0\n",
    "                observation = env.reset() # reset env\n",
    "                prev_frame = None\n",
    "                episode_number += 1\n",
    "\n",
    "                model.save_weights(\"ModelWeights\")\n",
    "\n",
    "            if reward != 0: # Pong has either +1 or -1 reward exactly when game ends.\n",
    "                print('ep %d: game finished, reward: %f, epsilon: %g' % (episode_number, reward, self.eps) + ('' if reward == -1 else ' !!!!!!!!'))\n",
    "                \n",
    "    def choose_action(self, state):\n",
    "        if np.random.random() < self.eps:\n",
    "                return np.random.randint(2, 4)\n",
    "        else:\n",
    "            change_in_frame = change_in_frame.reshape((1,6400))\n",
    "            up_prob = model.predict(change_in_frame)\n",
    "            if up_prob >= .5:\n",
    "                return 2\n",
    "            else:\n",
    "                return 3\n",
    "            \n",
    "    def prepro(self, input_frame):\n",
    "        \"\"\" prepro 210x160x3 uint8 frame into 6400 (80x80) 1D float vector \"\"\"\n",
    "        input_frame = input_frame[34:194] # crop\n",
    "        input_frame = input_frame[::2,::2,0] # downsample by factor of 2 (halves the resolution of the image)\n",
    "        #This takes every other pixel in the image\n",
    "        input_frame[input_frame == 144] = 0 # erase background (background type 1)\n",
    "        input_frame[input_frame == 109] = 0 # erase background (background type 2)\n",
    "        input_frame[input_frame != 0] = 1 # everything else (paddles, ball) just set to 1\n",
    "        return input_frame.astype(np.float).ravel()\n",
    "    \n",
    "    def discount_rewards(self, rewards):\n",
    "        \"\"\" take 1D float array of rewards and compute discounted reward \"\"\"\n",
    "        discounted_r = np.zeros_like(rewards)\n",
    "        running_add = 0\n",
    "        for t in reversed(range(0, rewards.size)):\n",
    "            if rewards[t] != 0: running_add = 0 # reset the sum, since this was a game boundary (pong specific!)\n",
    "            running_add = running_add * gamma + rewards[t]\n",
    "            discounted_r[t] = running_add\n",
    "        return discounted_r"
   ]
  },
  {
   "cell_type": "markdown",
   "id": "80214764",
   "metadata": {},
   "source": [
    "# Hyperparamters"
   ]
  },
  {
   "cell_type": "code",
   "execution_count": 6,
   "id": "0ee3e20c",
   "metadata": {},
   "outputs": [],
   "source": [
    "gamma = 0.99\n",
    "batch_size = 10"
   ]
  },
  {
   "cell_type": "markdown",
   "id": "134324ec",
   "metadata": {},
   "source": [
    "# Main Code"
   ]
  },
  {
   "cell_type": "code",
   "execution_count": 17,
   "id": "20b133ac",
   "metadata": {
    "scrolled": true
   },
   "outputs": [
    {
     "name": "stdout",
     "output_type": "stream",
     "text": [
      "ep 0: game finished, reward: -1.000000, epsilon: 1.00085\n",
      "ep 0: game finished, reward: -1.000000, epsilon: 1.00132\n",
      "ep 0: game finished, reward: -1.000000, epsilon: 1.00177\n",
      "ep 0: game finished, reward: -1.000000, epsilon: 1.00223\n",
      "ep 0: game finished, reward: -1.000000, epsilon: 1.00269\n",
      "ep 0: game finished, reward: -1.000000, epsilon: 1.00318\n",
      "ep 0: game finished, reward: -1.000000, epsilon: 1.00366\n",
      "ep 0: game finished, reward: -1.000000, epsilon: 1.00412\n",
      "ep 0: game finished, reward: -1.000000, epsilon: 1.00455\n",
      "ep 0: game finished, reward: -1.000000, epsilon: 1.00502\n",
      "ep 0: game finished, reward: -1.000000, epsilon: 1.00548\n",
      "ep 0: game finished, reward: -1.000000, epsilon: 1.00598\n",
      "ep 0: game finished, reward: -1.000000, epsilon: 1.00641\n",
      "ep 0: game finished, reward: -1.000000, epsilon: 1.00687\n",
      "ep 0: game finished, reward: -1.000000, epsilon: 1.0082\n",
      "ep 0: game finished, reward: -1.000000, epsilon: 1.00865\n",
      "ep 0: game finished, reward: -1.000000, epsilon: 1.00912\n",
      "ep 0: game finished, reward: -1.000000, epsilon: 1.00957\n",
      "ep 0: game finished, reward: -1.000000, epsilon: 1.01079\n",
      "ep 0: game finished, reward: -1.000000, epsilon: 1.01122\n",
      "resetting env. episode reward total was -21.000000. running mean: -21.000000\n",
      "ep 1: game finished, reward: -1.000000, epsilon: 1.01165\n",
      "ep 1: game finished, reward: -1.000000, epsilon: 1.0133\n",
      "ep 1: game finished, reward: -1.000000, epsilon: 1.01378\n",
      "ep 1: game finished, reward: -1.000000, epsilon: 1.01427\n",
      "ep 1: game finished, reward: -1.000000, epsilon: 1.01475\n",
      "ep 1: game finished, reward: -1.000000, epsilon: 1.01519\n",
      "ep 1: game finished, reward: -1.000000, epsilon: 1.01566\n",
      "ep 1: game finished, reward: -1.000000, epsilon: 1.01611\n",
      "ep 1: game finished, reward: -1.000000, epsilon: 1.01659\n",
      "ep 1: game finished, reward: -1.000000, epsilon: 1.0171\n",
      "ep 1: game finished, reward: -1.000000, epsilon: 1.0184\n",
      "ep 1: game finished, reward: -1.000000, epsilon: 1.01885\n",
      "ep 1: game finished, reward: -1.000000, epsilon: 1.01933\n",
      "ep 1: game finished, reward: -1.000000, epsilon: 1.02062\n",
      "ep 1: game finished, reward: -1.000000, epsilon: 1.02109\n",
      "ep 1: game finished, reward: -1.000000, epsilon: 1.02155\n",
      "ep 1: game finished, reward: -1.000000, epsilon: 1.02201\n",
      "ep 1: game finished, reward: -1.000000, epsilon: 1.02246\n",
      "ep 1: game finished, reward: -1.000000, epsilon: 1.02292\n",
      "ep 1: game finished, reward: -1.000000, epsilon: 1.02338\n",
      "ep 1: game finished, reward: -1.000000, epsilon: 1.02384\n",
      "resetting env. episode reward total was -21.000000. running mean: -21.000000\n",
      "ep 2: game finished, reward: -1.000000, epsilon: 1.02429\n",
      "ep 2: game finished, reward: -1.000000, epsilon: 1.02517\n",
      "ep 2: game finished, reward: -1.000000, epsilon: 1.02559\n",
      "ep 2: game finished, reward: -1.000000, epsilon: 1.02606\n",
      "ep 2: game finished, reward: -1.000000, epsilon: 1.02651\n",
      "ep 2: game finished, reward: -1.000000, epsilon: 1.027\n",
      "ep 2: game finished, reward: -1.000000, epsilon: 1.02748\n",
      "ep 2: game finished, reward: -1.000000, epsilon: 1.02868\n",
      "ep 2: game finished, reward: -1.000000, epsilon: 1.02914\n",
      "ep 2: game finished, reward: -1.000000, epsilon: 1.02962\n",
      "ep 2: game finished, reward: -1.000000, epsilon: 1.03007\n",
      "ep 2: game finished, reward: -1.000000, epsilon: 1.03052\n",
      "ep 2: game finished, reward: -1.000000, epsilon: 1.03098\n",
      "ep 2: game finished, reward: -1.000000, epsilon: 1.03144\n",
      "ep 2: game finished, reward: -1.000000, epsilon: 1.0319\n",
      "ep 2: game finished, reward: -1.000000, epsilon: 1.03238\n",
      "ep 2: game finished, reward: -1.000000, epsilon: 1.03282\n",
      "ep 2: game finished, reward: -1.000000, epsilon: 1.03325\n",
      "ep 2: game finished, reward: -1.000000, epsilon: 1.0337\n",
      "ep 2: game finished, reward: -1.000000, epsilon: 1.03495\n",
      "ep 2: game finished, reward: -1.000000, epsilon: 1.03622\n",
      "resetting env. episode reward total was -21.000000. running mean: -21.000000\n",
      "ep 3: game finished, reward: -1.000000, epsilon: 1.0367\n",
      "ep 3: game finished, reward: -1.000000, epsilon: 1.03752\n",
      "ep 3: game finished, reward: -1.000000, epsilon: 1.03881\n",
      "ep 3: game finished, reward: -1.000000, epsilon: 1.04009\n",
      "ep 3: game finished, reward: -1.000000, epsilon: 1.04056\n",
      "ep 3: game finished, reward: -1.000000, epsilon: 1.04099\n",
      "ep 3: game finished, reward: -1.000000, epsilon: 1.04145\n",
      "ep 3: game finished, reward: -1.000000, epsilon: 1.04193\n",
      "ep 3: game finished, reward: -1.000000, epsilon: 1.04239\n",
      "ep 3: game finished, reward: -1.000000, epsilon: 1.04285\n",
      "ep 3: game finished, reward: -1.000000, epsilon: 1.04332\n",
      "ep 3: game finished, reward: -1.000000, epsilon: 1.04462\n",
      "ep 3: game finished, reward: -1.000000, epsilon: 1.04508\n",
      "ep 3: game finished, reward: -1.000000, epsilon: 1.04552\n",
      "ep 3: game finished, reward: -1.000000, epsilon: 1.04599\n",
      "ep 3: game finished, reward: -1.000000, epsilon: 1.04647\n",
      "ep 3: game finished, reward: -1.000000, epsilon: 1.04775\n",
      "ep 3: game finished, reward: -1.000000, epsilon: 1.04821\n",
      "ep 3: game finished, reward: -1.000000, epsilon: 1.04956\n",
      "ep 3: game finished, reward: -1.000000, epsilon: 1.05\n"
     ]
    },
    {
     "ename": "AttributeError",
     "evalue": "'function' object has no attribute 'pop'",
     "output_type": "error",
     "traceback": [
      "\u001b[0;31m---------------------------------------------------------------------------\u001b[0m",
      "\u001b[0;31mAttributeError\u001b[0m                            Traceback (most recent call last)",
      "\u001b[0;32m<ipython-input-17-bb6c2aa88209>\u001b[0m in \u001b[0;36m<module>\u001b[0;34m\u001b[0m\n\u001b[1;32m     12\u001b[0m \u001b[0mgr\u001b[0m \u001b[0;34m=\u001b[0m \u001b[0mGameRunner\u001b[0m\u001b[0;34m(\u001b[0m\u001b[0menv\u001b[0m\u001b[0;34m,\u001b[0m \u001b[0mmodel\u001b[0m\u001b[0;34m,\u001b[0m \u001b[0mmem\u001b[0m\u001b[0;34m,\u001b[0m \u001b[0meps\u001b[0m\u001b[0;34m,\u001b[0m \u001b[0mmax_eps\u001b[0m\u001b[0;34m,\u001b[0m \u001b[0mmin_eps\u001b[0m\u001b[0;34m,\u001b[0m \u001b[0mgame_dimensions\u001b[0m\u001b[0;34m,\u001b[0m \u001b[0meps_greedy_frames\u001b[0m\u001b[0;34m,\u001b[0m \u001b[0;32mFalse\u001b[0m\u001b[0;34m,\u001b[0m \u001b[0;32mTrue\u001b[0m\u001b[0;34m)\u001b[0m\u001b[0;34m\u001b[0m\u001b[0;34m\u001b[0m\u001b[0m\n\u001b[1;32m     13\u001b[0m \u001b[0;34m\u001b[0m\u001b[0m\n\u001b[0;32m---> 14\u001b[0;31m \u001b[0mgr\u001b[0m\u001b[0;34m.\u001b[0m\u001b[0mrun\u001b[0m\u001b[0;34m(\u001b[0m\u001b[0;34m)\u001b[0m\u001b[0;34m\u001b[0m\u001b[0;34m\u001b[0m\u001b[0m\n\u001b[0m",
      "\u001b[0;32m<ipython-input-16-c172408578b3>\u001b[0m in \u001b[0;36mrun\u001b[0;34m(self)\u001b[0m\n\u001b[1;32m     38\u001b[0m             \u001b[0my\u001b[0m \u001b[0;34m=\u001b[0m \u001b[0;36m0\u001b[0m \u001b[0;32mif\u001b[0m \u001b[0maction\u001b[0m \u001b[0;34m==\u001b[0m \u001b[0;36m2\u001b[0m \u001b[0;32melse\u001b[0m \u001b[0;36m1\u001b[0m\u001b[0;34m\u001b[0m\u001b[0;34m\u001b[0m\u001b[0m\n\u001b[1;32m     39\u001b[0m \u001b[0;34m\u001b[0m\u001b[0m\n\u001b[0;32m---> 40\u001b[0;31m             \u001b[0mself\u001b[0m\u001b[0;34m.\u001b[0m\u001b[0mmemory\u001b[0m\u001b[0;34m.\u001b[0m\u001b[0madd_sample\u001b[0m\u001b[0;34m(\u001b[0m\u001b[0;34m(\u001b[0m\u001b[0mchange_in_frame\u001b[0m\u001b[0;34m,\u001b[0m \u001b[0my\u001b[0m\u001b[0;34m,\u001b[0m \u001b[0mreward\u001b[0m\u001b[0;34m)\u001b[0m\u001b[0;34m)\u001b[0m\u001b[0;34m\u001b[0m\u001b[0;34m\u001b[0m\u001b[0m\n\u001b[0m\u001b[1;32m     41\u001b[0m             \u001b[0;31m#self.replay()\u001b[0m\u001b[0;34m\u001b[0m\u001b[0;34m\u001b[0m\u001b[0;34m\u001b[0m\u001b[0m\n\u001b[1;32m     42\u001b[0m \u001b[0;34m\u001b[0m\u001b[0m\n",
      "\u001b[0;32m<ipython-input-2-24ccf90118ef>\u001b[0m in \u001b[0;36madd_sample\u001b[0;34m(self, sample)\u001b[0m\n\u001b[1;32m      7\u001b[0m         \u001b[0mself\u001b[0m\u001b[0;34m.\u001b[0m\u001b[0msamples\u001b[0m\u001b[0;34m.\u001b[0m\u001b[0mappend\u001b[0m\u001b[0;34m(\u001b[0m\u001b[0msample\u001b[0m\u001b[0;34m)\u001b[0m\u001b[0;34m\u001b[0m\u001b[0;34m\u001b[0m\u001b[0m\n\u001b[1;32m      8\u001b[0m         \u001b[0;32mif\u001b[0m \u001b[0mlen\u001b[0m\u001b[0;34m(\u001b[0m\u001b[0mself\u001b[0m\u001b[0;34m.\u001b[0m\u001b[0msamples\u001b[0m\u001b[0;34m)\u001b[0m \u001b[0;34m>\u001b[0m \u001b[0mself\u001b[0m\u001b[0;34m.\u001b[0m\u001b[0mmax_memory\u001b[0m\u001b[0;34m:\u001b[0m\u001b[0;34m\u001b[0m\u001b[0;34m\u001b[0m\u001b[0m\n\u001b[0;32m----> 9\u001b[0;31m             \u001b[0mself\u001b[0m\u001b[0;34m.\u001b[0m\u001b[0msample\u001b[0m\u001b[0;34m.\u001b[0m\u001b[0mpop\u001b[0m\u001b[0;34m(\u001b[0m\u001b[0;36m0\u001b[0m\u001b[0;34m)\u001b[0m\u001b[0;34m\u001b[0m\u001b[0;34m\u001b[0m\u001b[0m\n\u001b[0m\u001b[1;32m     10\u001b[0m \u001b[0;34m\u001b[0m\u001b[0m\n\u001b[1;32m     11\u001b[0m     \u001b[0;32mdef\u001b[0m \u001b[0msample\u001b[0m\u001b[0;34m(\u001b[0m\u001b[0mself\u001b[0m\u001b[0;34m,\u001b[0m \u001b[0mno_samples\u001b[0m\u001b[0;34m)\u001b[0m\u001b[0;34m:\u001b[0m\u001b[0;34m\u001b[0m\u001b[0;34m\u001b[0m\u001b[0m\n",
      "\u001b[0;31mAttributeError\u001b[0m: 'function' object has no attribute 'pop'"
     ]
    }
   ],
   "source": [
    "env = gym.make(\"Pong-v0\")\n",
    "\n",
    "mem = Memory(5000)\n",
    "\n",
    "eps = 1.0\n",
    "max_eps = 0.000001\n",
    "min_eps = 1.0\n",
    "eps_greedy_frames = 100000.0\n",
    "\n",
    "game_dimensions = 80*80\n",
    "\n",
    "gr = GameRunner(env, model, mem, eps, max_eps, min_eps, game_dimensions, eps_greedy_frames, False, True)\n",
    "\n",
    "gr.run()"
   ]
  },
  {
   "cell_type": "code",
   "execution_count": 5,
   "id": "65297049",
   "metadata": {},
   "outputs": [
    {
     "data": {
      "text/plain": [
       "Box(0, 255, (210, 160, 3), uint8)"
      ]
     },
     "execution_count": 5,
     "metadata": {},
     "output_type": "execute_result"
    }
   ],
   "source": [
    "env.observation_space"
   ]
  },
  {
   "cell_type": "code",
   "execution_count": 6,
   "id": "598a29fc",
   "metadata": {},
   "outputs": [
    {
     "data": {
      "text/plain": [
       "['NOOP', 'FIRE', 'RIGHT', 'LEFT', 'RIGHTFIRE', 'LEFTFIRE']"
      ]
     },
     "execution_count": 6,
     "metadata": {},
     "output_type": "execute_result"
    }
   ],
   "source": [
    "env.unwrapped.get_action_meanings()\n",
    "\n",
    "# NOOP is the same as FIRE (standing still)\n",
    "# LEFT is the same as LEFTFIRE (down)\n",
    "# RIGHT is the same as RIGHTFIRE (up)"
   ]
  },
  {
   "cell_type": "code",
   "execution_count": 8,
   "id": "703c3f93",
   "metadata": {},
   "outputs": [
    {
     "data": {
      "text/plain": [
       "{(): 0, (32,): 1, (100,): 2, (97,): 3, (32, 100): 4, (32, 97): 5}"
      ]
     },
     "execution_count": 8,
     "metadata": {},
     "output_type": "execute_result"
    }
   ],
   "source": [
    "env.unwrapped.get_keys_to_action()"
   ]
  }
 ],
 "metadata": {
  "kernelspec": {
   "display_name": "Python 3",
   "language": "python",
   "name": "python3"
  },
  "language_info": {
   "codemirror_mode": {
    "name": "ipython",
    "version": 3
   },
   "file_extension": ".py",
   "mimetype": "text/x-python",
   "name": "python",
   "nbconvert_exporter": "python",
   "pygments_lexer": "ipython3",
   "version": "3.8.8"
  }
 },
 "nbformat": 4,
 "nbformat_minor": 5
}
