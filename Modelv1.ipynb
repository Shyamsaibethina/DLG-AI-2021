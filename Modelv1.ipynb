{
 "cells": [
  {
   "cell_type": "markdown",
   "id": "8d2ce7a8",
   "metadata": {},
   "source": [
    "# Imports"
   ]
  },
  {
   "cell_type": "code",
   "execution_count": 2,
   "id": "9307b2fc",
   "metadata": {},
   "outputs": [],
   "source": [
    "import numpy as np\n",
    "import _pickle as pickle\n",
    "import gym\n",
    "import time\n",
    "import matplotlib.pyplot as plt\n",
    "import tensorflow as tf\n",
    "import tensorflow.keras.layers as layers\n",
    "import tensorflow.keras.initializers as initializers\n",
    " # CHANGED\n",
    "import os\n",
    "os.environ['TF_CPP_MIN_LOG_LEVEL'] = '2'"
   ]
  },
  {
   "cell_type": "markdown",
   "id": "4c82be43",
   "metadata": {},
   "source": [
    "# Model"
   ]
  },
  {
   "cell_type": "code",
   "execution_count": 3,
   "id": "2b93282d",
   "metadata": {},
   "outputs": [],
   "source": [
    "#hello\n",
    "env = gym.make(\"Pong-v0\")\n",
    "initializer = initializers.GlorotNormal\n",
    "\n",
    "x_in = tf.keras.layers.Input(shape = (6400,))\n",
    "x = tf.keras.layers.Dense(200, kernel_initializer= initializer, activation=\"relu\")(x_in)\n",
    "x_out = tf.keras.layers.Dense(1, activation=\"sigmoid\")(x)\n",
    "\n",
    "model = tf.keras.Model(x_in, x_out)\n",
    "\n",
    "model.compile(optimizer = \"adam\", loss = \"binary_crossentropy\", metrics = [\"acc\"])"
   ]
  },
  {
   "cell_type": "code",
   "execution_count": 4,
   "id": "e046e8ee",
   "metadata": {},
   "outputs": [],
   "source": [
    "# weights = x.get_weights()\n",
    "# print(weights)"
   ]
  },
  {
   "cell_type": "code",
   "execution_count": 5,
   "id": "65297049",
   "metadata": {},
   "outputs": [
    {
     "data": {
      "text/plain": [
       "Box(0, 255, (210, 160, 3), uint8)"
      ]
     },
     "execution_count": 5,
     "metadata": {},
     "output_type": "execute_result"
    }
   ],
   "source": [
    "env.observation_space"
   ]
  },
  {
   "cell_type": "code",
   "execution_count": 6,
   "id": "598a29fc",
   "metadata": {},
   "outputs": [
    {
     "data": {
      "text/plain": [
       "['NOOP', 'FIRE', 'RIGHT', 'LEFT', 'RIGHTFIRE', 'LEFTFIRE']"
      ]
     },
     "execution_count": 6,
     "metadata": {},
     "output_type": "execute_result"
    }
   ],
   "source": [
    "env.unwrapped.get_action_meanings()\n",
    "\n",
    "# NOOP is the same as FIRE (standing still)\n",
    "# LEFT is the same as LEFTFIRE (down)\n",
    "# RIGHT is the same as RIGHTFIRE (up)"
   ]
  },
  {
   "cell_type": "code",
   "execution_count": 7,
   "id": "1255fdd0",
   "metadata": {
    "scrolled": true
   },
   "outputs": [
    {
     "name": "stdout",
     "output_type": "stream",
     "text": [
      "Model: \"model\"\n",
      "_________________________________________________________________\n",
      "Layer (type)                 Output Shape              Param #   \n",
      "=================================================================\n",
      "input_1 (InputLayer)         [(None, 6400)]            0         \n",
      "_________________________________________________________________\n",
      "dense (Dense)                (None, 200)               1280200   \n",
      "_________________________________________________________________\n",
      "dense_1 (Dense)              (None, 1)                 201       \n",
      "=================================================================\n",
      "Total params: 1,280,401\n",
      "Trainable params: 1,280,401\n",
      "Non-trainable params: 0\n",
      "_________________________________________________________________\n"
     ]
    }
   ],
   "source": [
    "model.summary()"
   ]
  },
  {
   "cell_type": "markdown",
   "id": "12b9dd5c",
   "metadata": {},
   "source": [
    "# Preprocessing"
   ]
  },
  {
   "cell_type": "code",
   "execution_count": 8,
   "id": "d82b1b89",
   "metadata": {},
   "outputs": [],
   "source": [
    "def prepro(input_frame):\n",
    "    \"\"\" prepro 210x160x3 uint8 frame into 6400 (80x80) 1D float vector \"\"\"\n",
    "    input_frame = input_frame[34:194] # crop\n",
    "    input_frame = input_frame[::2,::2,0] # downsample by factor of 2 (halves the resolution of the image)\n",
    "    #This takes every other pixel in the image\n",
    "    input_frame[input_frame == 144] = 0 # erase background (background type 1)\n",
    "    input_frame[input_frame == 109] = 0 # erase background (background type 2)\n",
    "    input_frame[input_frame != 0] = 1 # everything else (paddles, ball) just set to 1\n",
    "    return input_frame.astype(np.float).ravel()"
   ]
  },
  {
   "cell_type": "markdown",
   "id": "31153865",
   "metadata": {},
   "source": [
    "# Discounted Rewards"
   ]
  },
  {
   "cell_type": "code",
   "execution_count": 9,
   "id": "19642275",
   "metadata": {},
   "outputs": [],
   "source": [
    "def discount_rewards(rewards):\n",
    "    \"\"\" take 1D float array of rewards and compute discounted reward \"\"\"\n",
    "    discounted_r = np.zeros_like(rewards)\n",
    "    running_add = 0\n",
    "    for t in reversed(range(0, rewards.size)):\n",
    "        if rewards[t] != 0: running_add = 0 # reset the sum, since this was a game boundary (pong specific!)\n",
    "        running_add = running_add * gamma + rewards[t]\n",
    "        discounted_r[t] = running_add\n",
    "    return discounted_r"
   ]
  },
  {
   "cell_type": "markdown",
   "id": "80214764",
   "metadata": {},
   "source": [
    "# Hyperparamters"
   ]
  },
  {
   "cell_type": "code",
   "execution_count": 10,
   "id": "0ee3e20c",
   "metadata": {},
   "outputs": [],
   "source": [
    "render = False\n",
    "prev_frame = None\n",
    "game_dimensions = 80*80\n",
    "gamma = 0.99\n",
    "resume = False\n",
    "batch_size = 10"
   ]
  },
  {
   "cell_type": "markdown",
   "id": "134324ec",
   "metadata": {},
   "source": [
    "# Main Code"
   ]
  },
  {
   "cell_type": "code",
   "execution_count": 16,
   "id": "20b133ac",
   "metadata": {
    "scrolled": true
   },
   "outputs": [
    {
     "ename": "ValueError",
     "evalue": "Passed in object of type <class 'numpy.ndarray'>, not tf.Tensor",
     "output_type": "error",
     "traceback": [
      "\u001b[0;31m---------------------------------------------------------------------------\u001b[0m",
      "\u001b[0;31mValueError\u001b[0m                                Traceback (most recent call last)",
      "\u001b[0;32m/var/folders/sv/5gznyy7x3q5ffxfx4fjs4j980000gn/T/ipykernel_9848/3829146852.py\u001b[0m in \u001b[0;36m<module>\u001b[0;34m\u001b[0m\n\u001b[1;32m     22\u001b[0m     \u001b[0;32mwith\u001b[0m \u001b[0mtf\u001b[0m\u001b[0;34m.\u001b[0m\u001b[0mGradientTape\u001b[0m\u001b[0;34m(\u001b[0m\u001b[0mwatch_accessed_variables\u001b[0m\u001b[0;34m=\u001b[0m\u001b[0;32mFalse\u001b[0m\u001b[0;34m)\u001b[0m \u001b[0;32mas\u001b[0m \u001b[0mtape\u001b[0m\u001b[0;34m:\u001b[0m\u001b[0;34m\u001b[0m\u001b[0;34m\u001b[0m\u001b[0m\n\u001b[1;32m     23\u001b[0m         \u001b[0mchange_in_frame\u001b[0m \u001b[0;34m=\u001b[0m \u001b[0mchange_in_frame\u001b[0m\u001b[0;34m.\u001b[0m\u001b[0mreshape\u001b[0m\u001b[0;34m(\u001b[0m\u001b[0;34m(\u001b[0m\u001b[0;36m1\u001b[0m\u001b[0;34m,\u001b[0m\u001b[0;36m6400\u001b[0m\u001b[0;34m)\u001b[0m\u001b[0;34m)\u001b[0m\u001b[0;34m\u001b[0m\u001b[0;34m\u001b[0m\u001b[0m\n\u001b[0;32m---> 24\u001b[0;31m         \u001b[0mtape\u001b[0m\u001b[0;34m.\u001b[0m\u001b[0mwatch\u001b[0m\u001b[0;34m(\u001b[0m\u001b[0mchange_in_frame\u001b[0m\u001b[0;34m)\u001b[0m\u001b[0;34m\u001b[0m\u001b[0;34m\u001b[0m\u001b[0m\n\u001b[0m\u001b[1;32m     25\u001b[0m         \u001b[0mup_prob\u001b[0m \u001b[0;34m=\u001b[0m \u001b[0mmodel\u001b[0m\u001b[0;34m.\u001b[0m\u001b[0mpredict\u001b[0m\u001b[0;34m(\u001b[0m\u001b[0mchange_in_frame\u001b[0m\u001b[0;34m)\u001b[0m\u001b[0;34m\u001b[0m\u001b[0;34m\u001b[0m\u001b[0m\n\u001b[1;32m     26\u001b[0m     \u001b[0;31m# print(up_prob)\u001b[0m\u001b[0;34m\u001b[0m\u001b[0;34m\u001b[0m\u001b[0;34m\u001b[0m\u001b[0m\n",
      "\u001b[0;32m/Library/Frameworks/Python.framework/Versions/3.9/lib/python3.9/site-packages/tensorflow/python/eager/backprop.py\u001b[0m in \u001b[0;36mwatch\u001b[0;34m(self, tensor)\u001b[0m\n\u001b[1;32m    897\u001b[0m     \u001b[0;32mfor\u001b[0m \u001b[0mt\u001b[0m \u001b[0;32min\u001b[0m \u001b[0mnest\u001b[0m\u001b[0;34m.\u001b[0m\u001b[0mflatten\u001b[0m\u001b[0;34m(\u001b[0m\u001b[0mtensor\u001b[0m\u001b[0;34m,\u001b[0m \u001b[0mexpand_composites\u001b[0m\u001b[0;34m=\u001b[0m\u001b[0;32mTrue\u001b[0m\u001b[0;34m)\u001b[0m\u001b[0;34m:\u001b[0m\u001b[0;34m\u001b[0m\u001b[0;34m\u001b[0m\u001b[0m\n\u001b[1;32m    898\u001b[0m       \u001b[0;32mif\u001b[0m \u001b[0;32mnot\u001b[0m \u001b[0;34m(\u001b[0m\u001b[0m_pywrap_utils\u001b[0m\u001b[0;34m.\u001b[0m\u001b[0mIsTensor\u001b[0m\u001b[0;34m(\u001b[0m\u001b[0mt\u001b[0m\u001b[0;34m)\u001b[0m \u001b[0;32mor\u001b[0m \u001b[0m_pywrap_utils\u001b[0m\u001b[0;34m.\u001b[0m\u001b[0mIsVariable\u001b[0m\u001b[0;34m(\u001b[0m\u001b[0mt\u001b[0m\u001b[0;34m)\u001b[0m\u001b[0;34m)\u001b[0m\u001b[0;34m:\u001b[0m\u001b[0;34m\u001b[0m\u001b[0;34m\u001b[0m\u001b[0m\n\u001b[0;32m--> 899\u001b[0;31m         raise ValueError(\"Passed in object of type {}, not tf.Tensor\".format(\n\u001b[0m\u001b[1;32m    900\u001b[0m             type(t)))\n\u001b[1;32m    901\u001b[0m       \u001b[0;32mif\u001b[0m \u001b[0;32mnot\u001b[0m \u001b[0mbackprop_util\u001b[0m\u001b[0;34m.\u001b[0m\u001b[0mIsTrainable\u001b[0m\u001b[0;34m(\u001b[0m\u001b[0mt\u001b[0m\u001b[0;34m)\u001b[0m\u001b[0;34m:\u001b[0m\u001b[0;34m\u001b[0m\u001b[0;34m\u001b[0m\u001b[0m\n",
      "\u001b[0;31mValueError\u001b[0m: Passed in object of type <class 'numpy.ndarray'>, not tf.Tensor"
     ]
    }
   ],
   "source": [
    "observation = env.reset()\n",
    "reward_sum = 0\n",
    "eps = 1\n",
    "episode_number = 0\n",
    "running_reward = None\n",
    "ep_observations, ep_rewards, ep_gradient_log_ps = [], [], []\n",
    "\n",
    "if resume:\n",
    "    model.load_weights(\"ModelWeights\")\n",
    "\n",
    "while True:\n",
    "    if render:\n",
    "        env.render()\n",
    "    \n",
    "    curr_frame = prepro(observation)\n",
    "    change_in_frame = curr_frame - prev_frame if prev_frame is not None else np.zeros(game_dimensions)\n",
    "    prev_frame = curr_frame\n",
    "    ep_observations.append(change_in_frame)\n",
    "\n",
    "    # CHANGED \n",
    "    # policyforward is happening here \n",
    "    with tf.GradientTape(watch_accessed_variables=False) as tape:\n",
    "        change_in_frame = change_in_frame.reshape((1,6400))\n",
    "        tape.watch(change_in_frame)\n",
    "        up_prob = model.predict(change_in_frame)\n",
    "    # print(up_prob)\n",
    "    action = 2 if np.random.uniform() < up_prob else 3 # roll the dice!\n",
    "\n",
    "    # if np.random.random() < eps:\n",
    "        # action = np.random.randint(2, 4)\n",
    "    # else:\n",
    "       # change_in_frame = change_in_frame.reshape((1,6400))\n",
    "       # up_prob = model.predict(change_in_frame)\n",
    "        # print(up_prob)\n",
    "        #if up_prob >= .5:\n",
    "           # action = 2\n",
    "       # else:\n",
    "           # action = 3\n",
    "    \n",
    "    observation, reward, done, _ = env.step(action) \n",
    "    \n",
    "    y = 1 if action == 2 else 0\n",
    "    ep_gradient_log_ps.append(y - up_prob)\n",
    "    \n",
    "    # try:\n",
    "       # ep_gradient_log_ps.append(y - up_prob)\n",
    "    # except:\n",
    "       # ep_gradient_log_ps.append(y)\n",
    "    \n",
    "    ep_rewards.append(reward)\n",
    "    reward_sum += reward\n",
    "    eps -= 0.001\n",
    "    \n",
    "    if done:\n",
    "        comb_ep_observations = np.vstack(ep_observations)\n",
    "        comb_ep_gradient_log_ps = np.vstack(ep_gradient_log_ps)\n",
    "        comb_ep_rewards = np.vstack(ep_rewards)\n",
    "        ep_observations, ep_gradient_log_ps, ep_rewards = [], [], []\n",
    "        \n",
    "        discounted_comb_ep_rewards = discount_rewards(comb_ep_rewards)\n",
    "        discounted_comb_ep_rewards -= np.mean(discounted_comb_ep_rewards) \n",
    "        discounted_comb_ep_rewards /= np.std(discounted_comb_ep_rewards)\n",
    "        \n",
    "        comb_ep_gradient_log_ps *= discounted_comb_ep_rewards\n",
    "        grad = tape.gradient(comp_ep_gradient_log_ps, )\n",
    "        # print(comb_ep_gradient_log_ps)\n",
    "        \n",
    "        # model.fit(comb_ep_observations, comb_ep_gradient_log_ps, epochs = 50)\n",
    "        \n",
    "        # model.fit(comb_ep_observations, comb_ep_gradient_log_ps, epochs = 50)\n",
    "        # grad = tape.gradient(comp_ep_gradient_log_ps, comp_ep_hidden_layer_values)\n",
    "        # print(grad)\n",
    "        # model.fit()\n",
    "        # train = tf.train.GradientDescentOptimizer(1.0).minimize(loss)\n",
    "        # opt = tf.keras.optimizers.Adam(learning_rate=0.1)\n",
    "\n",
    "         # model.()\n",
    "        \n",
    "        running_reward = reward_sum if running_reward is None else running_reward * 0.99 + reward_sum * 0.01\n",
    "        print ('resetting env. episode reward total was %f. running mean: %f' % (reward_sum, running_reward))\n",
    "        reward_sum = 0\n",
    "        observation = env.reset() # reset env\n",
    "        prev_frame = None\n",
    "        episode_number += 1\n",
    "        \n",
    "        if episode_number % batch_size == 0:\n",
    "            \n",
    "            # Back Propagation Code Goes Here\n",
    "            model.save_weights(\"ModelWeights\")\n",
    "    \n",
    "    if reward != 0: # Pong has either +1 or -1 reward exactly when game ends.\n",
    "        print('ep %d: game finished, reward: %f' % (episode_number, reward) + ('' if reward == -1 else ' !!!!!!!!'))"
   ]
  },
  {
   "cell_type": "code",
   "execution_count": null,
   "id": "ef97848a",
   "metadata": {},
   "outputs": [],
   "source": []
  },
  {
   "cell_type": "code",
   "execution_count": null,
   "id": "e0e16f37",
   "metadata": {},
   "outputs": [],
   "source": []
  }
 ],
 "metadata": {
  "kernelspec": {
   "display_name": "Python 3 (ipykernel)",
   "language": "python",
   "name": "python3"
  },
  "language_info": {
   "codemirror_mode": {
    "name": "ipython",
    "version": 3
   },
   "file_extension": ".py",
   "mimetype": "text/x-python",
   "name": "python",
   "nbconvert_exporter": "python",
   "pygments_lexer": "ipython3",
   "version": "3.9.5"
  }
 },
 "nbformat": 4,
 "nbformat_minor": 5
}
