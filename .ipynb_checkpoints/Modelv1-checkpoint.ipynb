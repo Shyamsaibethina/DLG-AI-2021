{
 "cells": [
  {
   "cell_type": "markdown",
   "id": "8d2ce7a8",
   "metadata": {},
   "source": [
    "# Imports"
   ]
  },
  {
   "cell_type": "code",
   "execution_count": 28,
   "id": "9307b2fc",
   "metadata": {},
   "outputs": [],
   "source": [
    "import numpy as np\n",
    "import _pickle as pickle\n",
    "import gym\n",
    "import time\n",
    "import matplotlib.pyplot as plt\n",
    "import tensorflow as tf\n",
    "import tensorflow.keras.layers as layers\n",
    "import tensorflow.keras.initializers as initializers\n",
    " # CHANGED\n",
    "import os\n",
    "os.environ['TF_CPP_MIN_LOG_LEVEL'] = '2'"
   ]
  },
  {
   "cell_type": "markdown",
   "id": "4c82be43",
   "metadata": {},
   "source": [
    "# Model"
   ]
  },
  {
   "cell_type": "code",
   "execution_count": 29,
   "id": "2b93282d",
   "metadata": {},
   "outputs": [],
   "source": [
    "#hello\n",
    "env = gym.make(\"Pong-v0\")\n",
    "initializer = initializers.GlorotNormal\n",
    "\n",
    "x_in = tf.keras.layers.Input(shape = (6400,))\n",
    "x = tf.keras.layers.Dense(200, kernel_initializer= initializer, activation=\"relu\")(x_in)\n",
    "x_out = tf.keras.layers.Dense(1, activation=\"sigmoid\")(x)\n",
    "\n",
    "model = tf.keras.Model(x_in, x_out)\n",
    "\n",
    "model.compile(optimizer = \"adam\", loss = \"binary_crossentropy\", metrics = [\"acc\"])"
   ]
  },
  {
   "cell_type": "code",
   "execution_count": 30,
   "id": "e046e8ee",
   "metadata": {},
   "outputs": [],
   "source": [
    "# weights = x.get_weights()\n",
    "# print(weights)"
   ]
  },
  {
   "cell_type": "code",
   "execution_count": 31,
   "id": "65297049",
   "metadata": {},
   "outputs": [
    {
     "data": {
      "text/plain": [
       "Box(0, 255, (210, 160, 3), uint8)"
      ]
     },
     "execution_count": 31,
     "metadata": {},
     "output_type": "execute_result"
    }
   ],
   "source": [
    "env.observation_space"
   ]
  },
  {
   "cell_type": "code",
   "execution_count": 32,
   "id": "598a29fc",
   "metadata": {},
   "outputs": [
    {
     "data": {
      "text/plain": [
       "['NOOP', 'FIRE', 'RIGHT', 'LEFT', 'RIGHTFIRE', 'LEFTFIRE']"
      ]
     },
     "execution_count": 32,
     "metadata": {},
     "output_type": "execute_result"
    }
   ],
   "source": [
    "env.unwrapped.get_action_meanings()\n",
    "\n",
    "# NOOP is the same as FIRE (standing still)\n",
    "# LEFT is the same as LEFTFIRE (down)\n",
    "# RIGHT is the same as RIGHTFIRE (up)"
   ]
  },
  {
   "cell_type": "code",
   "execution_count": 33,
   "id": "1255fdd0",
   "metadata": {
    "scrolled": true
   },
   "outputs": [
    {
     "name": "stdout",
     "output_type": "stream",
     "text": [
      "Model: \"model_2\"\n",
      "_________________________________________________________________\n",
      "Layer (type)                 Output Shape              Param #   \n",
      "=================================================================\n",
      "input_2 (InputLayer)         [(None, 6400)]            0         \n",
      "_________________________________________________________________\n",
      "dense_4 (Dense)              (None, 200)               1280200   \n",
      "_________________________________________________________________\n",
      "dense_5 (Dense)              (None, 1)                 201       \n",
      "=================================================================\n",
      "Total params: 1,280,401\n",
      "Trainable params: 1,280,401\n",
      "Non-trainable params: 0\n",
      "_________________________________________________________________\n"
     ]
    }
   ],
   "source": [
    "model.summary()"
   ]
  },
  {
   "cell_type": "markdown",
   "id": "12b9dd5c",
   "metadata": {},
   "source": [
    "# Preprocessing"
   ]
  },
  {
   "cell_type": "code",
   "execution_count": 34,
   "id": "d82b1b89",
   "metadata": {},
   "outputs": [],
   "source": [
    "def prepro(input_frame):\n",
    "    \"\"\" prepro 210x160x3 uint8 frame into 6400 (80x80) 1D float vector \"\"\"\n",
    "    input_frame = input_frame[34:194] # crop\n",
    "    input_frame = input_frame[::2,::2,0] # downsample by factor of 2 (halves the resolution of the image)\n",
    "    #This takes every other pixel in the image\n",
    "    input_frame[input_frame == 144] = 0 # erase background (background type 1)\n",
    "    input_frame[input_frame == 109] = 0 # erase background (background type 2)\n",
    "    input_frame[input_frame != 0] = 1 # everything else (paddles, ball) just set to 1\n",
    "    return input_frame.astype(np.float).ravel()"
   ]
  },
  {
   "cell_type": "markdown",
   "id": "31153865",
   "metadata": {},
   "source": [
    "# Discounted Rewards"
   ]
  },
  {
   "cell_type": "code",
   "execution_count": 35,
   "id": "19642275",
   "metadata": {},
   "outputs": [],
   "source": [
    "def discount_rewards(rewards):\n",
    "    \"\"\" take 1D float array of rewards and compute discounted reward \"\"\"\n",
    "    discounted_r = np.zeros_like(rewards)\n",
    "    running_add = 0\n",
    "    for t in reversed(range(0, rewards.size)):\n",
    "        if rewards[t] != 0: running_add = 0 # reset the sum, since this was a game boundary (pong specific!)\n",
    "        running_add = running_add * gamma + rewards[t]\n",
    "        discounted_r[t] = running_add\n",
    "    return discounted_r"
   ]
  },
  {
   "cell_type": "markdown",
   "id": "80214764",
   "metadata": {},
   "source": [
    "# Hyperparamters"
   ]
  },
  {
   "cell_type": "code",
   "execution_count": 36,
   "id": "0ee3e20c",
   "metadata": {},
   "outputs": [],
   "source": [
    "render = False\n",
    "prev_frame = None\n",
    "game_dimensions = 80*80\n",
    "gamma = 0.99\n",
    "resume = False\n",
    "batch_size = 10"
   ]
  },
  {
   "cell_type": "markdown",
   "id": "134324ec",
   "metadata": {},
   "source": [
    "# Main Code"
   ]
  },
  {
   "cell_type": "code",
   "execution_count": 38,
   "id": "20b133ac",
   "metadata": {
    "scrolled": true
   },
   "outputs": [
    {
     "ename": "ValueError",
     "evalue": "When using data tensors as input to a model, you should specify the `steps` argument.",
     "output_type": "error",
     "traceback": [
      "\u001b[0;31m---------------------------------------------------------------------------\u001b[0m",
      "\u001b[0;31mValueError\u001b[0m                                Traceback (most recent call last)",
      "\u001b[0;32m/var/folders/sv/5gznyy7x3q5ffxfx4fjs4j980000gn/T/ipykernel_13465/4262971641.py\u001b[0m in \u001b[0;36m<module>\u001b[0;34m\u001b[0m\n\u001b[1;32m     29\u001b[0m         \u001b[0mtape\u001b[0m\u001b[0;34m.\u001b[0m\u001b[0mwatch\u001b[0m\u001b[0;34m(\u001b[0m\u001b[0mchange_in_frame\u001b[0m\u001b[0;34m)\u001b[0m\u001b[0;34m\u001b[0m\u001b[0;34m\u001b[0m\u001b[0m\n\u001b[1;32m     30\u001b[0m \u001b[0;34m\u001b[0m\u001b[0m\n\u001b[0;32m---> 31\u001b[0;31m     \u001b[0mup_prob\u001b[0m \u001b[0;34m=\u001b[0m \u001b[0mmodel\u001b[0m\u001b[0;34m.\u001b[0m\u001b[0mpredict\u001b[0m\u001b[0;34m(\u001b[0m\u001b[0mchange_in_frame\u001b[0m\u001b[0;34m)\u001b[0m\u001b[0;34m\u001b[0m\u001b[0;34m\u001b[0m\u001b[0m\n\u001b[0m\u001b[1;32m     32\u001b[0m     \u001b[0mep_up_probs\u001b[0m\u001b[0;34m.\u001b[0m\u001b[0mappend\u001b[0m\u001b[0;34m(\u001b[0m\u001b[0mup_prob\u001b[0m\u001b[0;34m)\u001b[0m\u001b[0;34m\u001b[0m\u001b[0;34m\u001b[0m\u001b[0m\n\u001b[1;32m     33\u001b[0m     \u001b[0mup_prob\u001b[0m \u001b[0;34m=\u001b[0m \u001b[0mtf\u001b[0m\u001b[0;34m.\u001b[0m\u001b[0mconvert_to_tensor\u001b[0m\u001b[0;34m(\u001b[0m\u001b[0mup_prob\u001b[0m\u001b[0;34m)\u001b[0m\u001b[0;34m\u001b[0m\u001b[0;34m\u001b[0m\u001b[0m\n",
      "\u001b[0;32m/Library/Frameworks/Python.framework/Versions/3.9/lib/python3.9/site-packages/tensorflow/python/keras/engine/training_v1.py\u001b[0m in \u001b[0;36mpredict\u001b[0;34m(self, x, batch_size, verbose, steps, callbacks, max_queue_size, workers, use_multiprocessing)\u001b[0m\n\u001b[1;32m    986\u001b[0m \u001b[0;34m\u001b[0m\u001b[0m\n\u001b[1;32m    987\u001b[0m     \u001b[0mfunc\u001b[0m \u001b[0;34m=\u001b[0m \u001b[0mself\u001b[0m\u001b[0;34m.\u001b[0m\u001b[0m_select_training_loop\u001b[0m\u001b[0;34m(\u001b[0m\u001b[0mx\u001b[0m\u001b[0;34m)\u001b[0m\u001b[0;34m\u001b[0m\u001b[0;34m\u001b[0m\u001b[0m\n\u001b[0;32m--> 988\u001b[0;31m     return func.predict(\n\u001b[0m\u001b[1;32m    989\u001b[0m         \u001b[0mself\u001b[0m\u001b[0;34m,\u001b[0m\u001b[0;34m\u001b[0m\u001b[0;34m\u001b[0m\u001b[0m\n\u001b[1;32m    990\u001b[0m         \u001b[0mx\u001b[0m\u001b[0;34m=\u001b[0m\u001b[0mx\u001b[0m\u001b[0;34m,\u001b[0m\u001b[0;34m\u001b[0m\u001b[0;34m\u001b[0m\u001b[0m\n",
      "\u001b[0;32m/Library/Frameworks/Python.framework/Versions/3.9/lib/python3.9/site-packages/tensorflow/python/keras/engine/training_arrays_v1.py\u001b[0m in \u001b[0;36mpredict\u001b[0;34m(self, model, x, batch_size, verbose, steps, callbacks, **kwargs)\u001b[0m\n\u001b[1;32m    699\u001b[0m               **kwargs):\n\u001b[1;32m    700\u001b[0m     \u001b[0mbatch_size\u001b[0m \u001b[0;34m=\u001b[0m \u001b[0mmodel\u001b[0m\u001b[0;34m.\u001b[0m\u001b[0m_validate_or_infer_batch_size\u001b[0m\u001b[0;34m(\u001b[0m\u001b[0mbatch_size\u001b[0m\u001b[0;34m,\u001b[0m \u001b[0msteps\u001b[0m\u001b[0;34m,\u001b[0m \u001b[0mx\u001b[0m\u001b[0;34m)\u001b[0m\u001b[0;34m\u001b[0m\u001b[0;34m\u001b[0m\u001b[0m\n\u001b[0;32m--> 701\u001b[0;31m     x, _, _ = model._standardize_user_data(\n\u001b[0m\u001b[1;32m    702\u001b[0m         x, check_steps=True, steps_name='steps', steps=steps)\n\u001b[1;32m    703\u001b[0m     return predict_loop(\n",
      "\u001b[0;32m/Library/Frameworks/Python.framework/Versions/3.9/lib/python3.9/site-packages/tensorflow/python/keras/engine/training_v1.py\u001b[0m in \u001b[0;36m_standardize_user_data\u001b[0;34m(self, x, y, sample_weight, class_weight, batch_size, check_steps, steps_name, steps, validation_split, shuffle, extract_tensors_from_dataset)\u001b[0m\n\u001b[1;32m   2310\u001b[0m     \u001b[0;31m# Validates `steps` argument based on x's type.\u001b[0m\u001b[0;34m\u001b[0m\u001b[0;34m\u001b[0m\u001b[0;34m\u001b[0m\u001b[0m\n\u001b[1;32m   2311\u001b[0m     \u001b[0;32mif\u001b[0m \u001b[0mcheck_steps\u001b[0m\u001b[0;34m:\u001b[0m\u001b[0;34m\u001b[0m\u001b[0;34m\u001b[0m\u001b[0m\n\u001b[0;32m-> 2312\u001b[0;31m       \u001b[0mtraining_utils_v1\u001b[0m\u001b[0;34m.\u001b[0m\u001b[0mcheck_steps_argument\u001b[0m\u001b[0;34m(\u001b[0m\u001b[0mx\u001b[0m\u001b[0;34m,\u001b[0m \u001b[0msteps\u001b[0m\u001b[0;34m,\u001b[0m \u001b[0msteps_name\u001b[0m\u001b[0;34m)\u001b[0m\u001b[0;34m\u001b[0m\u001b[0;34m\u001b[0m\u001b[0m\n\u001b[0m\u001b[1;32m   2313\u001b[0m \u001b[0;34m\u001b[0m\u001b[0m\n\u001b[1;32m   2314\u001b[0m     \u001b[0;31m# First, we build the model on the fly if necessary.\u001b[0m\u001b[0;34m\u001b[0m\u001b[0;34m\u001b[0m\u001b[0;34m\u001b[0m\u001b[0m\n",
      "\u001b[0;32m/Library/Frameworks/Python.framework/Versions/3.9/lib/python3.9/site-packages/tensorflow/python/keras/engine/training_utils_v1.py\u001b[0m in \u001b[0;36mcheck_steps_argument\u001b[0;34m(input_data, steps, steps_name)\u001b[0m\n\u001b[1;32m   1334\u001b[0m     \u001b[0;32mif\u001b[0m \u001b[0msteps\u001b[0m \u001b[0;32mis\u001b[0m \u001b[0;32mNone\u001b[0m\u001b[0;34m:\u001b[0m\u001b[0;34m\u001b[0m\u001b[0;34m\u001b[0m\u001b[0m\n\u001b[1;32m   1335\u001b[0m       \u001b[0minput_type_str\u001b[0m \u001b[0;34m=\u001b[0m \u001b[0;34m'a Dataset iterator'\u001b[0m \u001b[0;32mif\u001b[0m \u001b[0mis_x_iterator\u001b[0m \u001b[0;32melse\u001b[0m \u001b[0;34m'data tensors'\u001b[0m\u001b[0;34m\u001b[0m\u001b[0;34m\u001b[0m\u001b[0m\n\u001b[0;32m-> 1336\u001b[0;31m       raise ValueError('When using {input_type} as input to a model, you should'\n\u001b[0m\u001b[1;32m   1337\u001b[0m                        ' specify the `{steps_name}` argument.'.format(\n\u001b[1;32m   1338\u001b[0m                            input_type=input_type_str, steps_name=steps_name))\n",
      "\u001b[0;31mValueError\u001b[0m: When using data tensors as input to a model, you should specify the `steps` argument."
     ]
    }
   ],
   "source": [
    "observation = env.reset()\n",
    "reward_sum = 0\n",
    "eps = 1\n",
    "episode_number = 0\n",
    "running_reward = None\n",
    "ep_observations, ep_rewards, ep_gradient_log_ps, ep_hidden_layer_values, ep_up_probs = [], [], [], [], []\n",
    "\n",
    "if resume:\n",
    "    model.load_weights(\"ModelWeights\")\n",
    "\n",
    "while True:\n",
    "    if render:\n",
    "        env.render()\n",
    "    \n",
    "    curr_frame = prepro(observation)\n",
    "    change_in_frame = curr_frame - prev_frame if prev_frame is not None else np.zeros(game_dimensions)\n",
    "    prev_frame = curr_frame\n",
    "    ep_observations.append(change_in_frame)\n",
    "\n",
    "    # CHANGED \n",
    "    # policyforward is happening here\n",
    "    \n",
    "   # hidden_layer_values = np.dot(model.get_weights()[0].T, change_in_frame)\n",
    "    # hidden_layer_values = tf.keras.activations.relu(hidden_layer_values)\n",
    "        \n",
    "    with tf.GradientTape(watch_accessed_variables=False) as tape:\n",
    "        change_in_frame = change_in_frame.reshape((1,6400))\n",
    "        change_in_frame = tf.convert_to_tensor(change_in_frame)\n",
    "        tape.watch(change_in_frame)\n",
    "        \n",
    "    up_prob = model.predict(change_in_frame)\n",
    "    ep_up_probs.append(up_prob)\n",
    "    # up_prob = tf.convert_to_tensor(up_prob)\n",
    "\n",
    "    action = 2 if np.random.uniform() < up_prob else 3 # roll the dice!\n",
    "\n",
    "    # if np.random.random() < eps:\n",
    "        # action = np.random.randint(2, 4)\n",
    "    # else:\n",
    "       # change_in_frame = change_in_frame.reshape((1,6400))\n",
    "       # up_prob = model.predict(change_in_frame)\n",
    "        # print(up_prob)\n",
    "        #if up_prob >= .5:\n",
    "           # action = 2\n",
    "       # else:\n",
    "           # action = 3\n",
    "    \n",
    "    observation, reward, done, _ = env.step(action) \n",
    "    \n",
    "    y = 1 if action == 2 else 0\n",
    "    \n",
    "    ep_gradient_log_ps.append(y - up_prob)\n",
    "        \n",
    "   # ep_hidden_layer_values.append(hidden_layer_values)\n",
    "    ep_rewards.append(reward)\n",
    "    reward_sum += reward\n",
    "    eps -= 0.001\n",
    "    \n",
    "    if done:\n",
    "    \n",
    "       # comb_ep_observations = np.vstack(ep_observations)\n",
    "        #comb_ep_gradient_log_ps = []\n",
    "        #for i in ep_gradient_log_ps:\n",
    "           # comb_ep_gradient_log_ps.append([i])\n",
    "            \n",
    "        comb_ep_gradient_log_ps = np.vstack(ep_gradient_log_ps)\n",
    "        \n",
    "        #comb_ep_up_probs = []\n",
    "        #for i in ep_up_probs:\n",
    "            #comb_ep_up_probs.append(i)\n",
    "        \n",
    "        comb_ep_up_probs = np.vstack(ep_up_probs)\n",
    "        comb_ep_rewards = np.vstack(ep_rewards)\n",
    "        \n",
    "       # comb_ep_hidden_layer_values = np.vstack(ep_hidden_layer_values)\n",
    "        \n",
    "        ep_observations, ep_gradient_log_ps, ep_rewards, ep_hidden_layer_values, ep_up_probs  = [], [], [], [], []\n",
    "        \n",
    "        discounted_comb_ep_rewards = discount_rewards(comb_ep_rewards)\n",
    "        discounted_comb_ep_rewards -= np.mean(discounted_comb_ep_rewards) \n",
    "        discounted_comb_ep_rewards /= np.std(discounted_comb_ep_rewards)\n",
    "        \n",
    "        comb_ep_gradient_log_ps *= discounted_comb_ep_rewards\n",
    "        comb_ep_gradient_log_ps = tf.convert_to_tensor(comb_ep_gradient_log_ps)\n",
    "        \n",
    "        #cost = tf.reduce_mean(tf.nn.softmax_cross_entropy_with_logits(labels=comb_ep_gradient_log_ps, logits=comb_ep_up_probs))\n",
    "        #updates = tf.train.AdamOptimizer(0.001).minimize(cost)\n",
    "        #sess.run(updates)\n",
    "        \n",
    "        # model.fit(comb_ep_observations, comb_ep_up_probs, 10, 50)\n",
    "        # grad = tape.gradient(comp_ep_gradient_log_ps, comp_ep_hidden_layer_values)\n",
    "        \n",
    "        running_reward = reward_sum if running_reward is None else running_reward * 0.99 + reward_sum * 0.01\n",
    "        print ('resetting env. episode reward total was %f. running mean: %f' % (reward_sum, running_reward))\n",
    "        reward_sum = 0\n",
    "        observation = env.reset() # reset env\n",
    "        prev_frame = None\n",
    "        episode_number += 1\n",
    "        \n",
    "        #if episode_number % batch_size == 0:\n",
    "            \n",
    "            # Back Propagation Code Goes Here\n",
    "           # model.save_weights(\"ModelWeights\")\n",
    "            \n",
    "    if reward != 0: # Pong has either +1 or -1 reward exactly when game ends.\n",
    "        print('ep %d: game finished, reward: %f' % (episode_number, reward) + ('' if reward == -1 else ' !!!!!!!!'))\n",
    "        "
   ]
  },
  {
   "cell_type": "code",
   "execution_count": 14,
   "id": "3779d0fc",
   "metadata": {},
   "outputs": [
    {
     "name": "stdout",
     "output_type": "stream",
     "text": [
      "1484\n"
     ]
    },
    {
     "data": {
      "text/plain": [
       "1483"
      ]
     },
     "execution_count": 14,
     "metadata": {},
     "output_type": "execute_result"
    }
   ],
   "source": [
    "# np.unique(comb_ep_gradient_log_ps)\n",
    "print(len(comb_ep_gradient_log_ps))\n",
    "len(np.unique(comb_ep_gradient_log_ps))"
   ]
  },
  {
   "cell_type": "code",
   "execution_count": null,
   "id": "ef97848a",
   "metadata": {},
   "outputs": [],
   "source": []
  },
  {
   "cell_type": "code",
   "execution_count": null,
   "id": "e0e16f37",
   "metadata": {},
   "outputs": [],
   "source": []
  }
 ],
 "metadata": {
  "kernelspec": {
   "display_name": "Python 3 (ipykernel)",
   "language": "python",
   "name": "python3"
  },
  "language_info": {
   "codemirror_mode": {
    "name": "ipython",
    "version": 3
   },
   "file_extension": ".py",
   "mimetype": "text/x-python",
   "name": "python",
   "nbconvert_exporter": "python",
   "pygments_lexer": "ipython3",
   "version": "3.9.5"
  }
 },
 "nbformat": 4,
 "nbformat_minor": 5
}
