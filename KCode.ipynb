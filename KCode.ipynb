{
 "cells": [
  {
   "cell_type": "code",
   "execution_count": 2,
   "id": "84d4e9b6",
   "metadata": {},
   "outputs": [],
   "source": [
    "import numpy as np\n",
    "import _pickle as pickle\n",
    "import gym\n",
    "import time\n",
    "import matplotlib.pyplot as plt\n",
    "import os\n",
    "from matplotlib import animation\n",
    "\n",
    "# hyperparameters\n",
    "hidden_layer_neurons = 200\n",
    "batch_size = 10 # every how many episodes to do a param update?\n",
    "learning_rate = 1e-3\n",
    "gamma = 0.99 # discount factor for reward\n",
    "decay_rate = 0.99 # decay factor for RMSProp leaky sum of grad^2\n",
    "resume = False # resume from previous checkpoint?\n",
    "render = False\n",
    "\n",
    "# model initialization\n",
    "game_dimensions = 80 * 80 # input dimensionality: 80x80 grid"
   ]
  },
  {
   "cell_type": "code",
   "execution_count": 3,
   "id": "4c9b5cd0",
   "metadata": {},
   "outputs": [],
   "source": [
    "#TODO: With sqroot, paddle explores more of the board. Why is that?\n",
    "\n",
    "try:\n",
    "    with open(\"ControlRRLR1e-3.txt\", \"rb\") as fp:   # Unpickling\n",
    "        running_rewards = pickle.load(fp)\n",
    "    resume = True\n",
    "except:\n",
    "    running_rewards = []\n",
    "\n",
    "if resume:\n",
    "    model = pickle.load(open('save.p', 'rb')) #This allows you to resume training\n",
    "else:\n",
    "    model = {}\n",
    "    model['W1'] = np.random.randn(hidden_layer_neurons, game_dimensions) / np.sqrt(game_dimensions) # \"Xavier\" initialization. Idea is to set the initial and output variance to be the same so vanishing/exploding gradient doesn't happen\n",
    "    #Weights live in the connections. Which is why the weights are 200 by 6400 because that is the total number of connections\n",
    "    model['W2'] = np.random.randn(hidden_layer_neurons) / np.sqrt(hidden_layer_neurons)\n",
    "    #Stores 200 weights"
   ]
  },
  {
   "cell_type": "code",
   "execution_count": 4,
   "id": "3f016b3d",
   "metadata": {},
   "outputs": [],
   "source": [
    "grad_buffer = { k : np.zeros_like(v) for k,v in model.items() } # update buffers that add up gradients over a batch\n",
    "rmsprop_cache = { k : np.zeros_like(v) for k,v in model.items() } # rmsprop memory\n",
    "\n",
    "def sigmoid(x): \n",
    "    return 1.0 / (1.0 + np.exp(-x)) # sigmoid \"squashing\" function to interval [0,1]\n",
    "\n",
    "def relu(x):\n",
    "    if x < 0:\n",
    "        return 0\n",
    "    return x\n",
    "\n",
    "def tanh(x):\n",
    "    return np.tanh(x)\n",
    "\n",
    "def softmax(x): \n",
    "    pass\n",
    "\n",
    "def save_frames_as_gif(frames, filename):\n",
    "    \"\"\"\n",
    "    Save a list of frames as a gif\n",
    "    \"\"\" \n",
    "    patch = plt.imshow(frames[0])\n",
    "    plt.axis('off')\n",
    "    def animate(i):\n",
    "        patch.set_data(frames[i])\n",
    "    anim = animation.FuncAnimation(plt.gcf(), animate, frames = len(frames), interval=50)\n",
    "    if filename:\n",
    "        anim.save(filename, dpi=72, writer='imagemagick')\n",
    "\n",
    "#TODO: I wonder if we can play around with the downsampling. If you get an error, you need to adjust the game dimensions\n",
    "#Just see the other number (if you do ::3 then it will be 2916) and take the square root. Then, use replace that\n",
    "#number with the numbers in the game_dimensions variable\n",
    "\n",
    "def prepro(input_frame):\n",
    "    \"\"\" prepro 210x160x3 uint8 frame into 6400 (80x80) 1D float vector \"\"\"\n",
    "    input_frame = input_frame[34:194] # crop\n",
    "    input_frame = input_frame[::2,::2,0] # downsample by factor of 2 (halves the resolution of the image)\n",
    "    #This takes every other pixel in the image\n",
    "    input_frame[input_frame == 144] = 0 # erase background (background type 1)\n",
    "    input_frame[input_frame == 109] = 0 # erase background (background type 2)\n",
    "    input_frame[input_frame != 0] = 1 # everything else (paddles, ball) just set to 1\n",
    "    return input_frame.astype(np.float).ravel()\n",
    "\n",
    "#TODO: Play around with gamma values\n",
    "\n",
    "def discount_rewards(rewards):\n",
    "    \"\"\" take 1D float array of rewards and compute discounted reward \"\"\"\n",
    "    discounted_r = np.zeros_like(rewards)\n",
    "    running_add = 0\n",
    "    # print(rewards)  r is a 2d array with the given rewards\n",
    "    for t in reversed(range(0, rewards.size)):\n",
    "        if rewards[t] != 0: running_add = 0 # reset the sum, since this was a game boundary (pong specific!)\n",
    "        running_add = running_add * gamma + rewards[t]\n",
    "        discounted_r[t] = running_add\n",
    "    return discounted_r\n",
    "\n",
    "# TODO: look into adding bias\n",
    "def policy_forward(change_in_frame):\n",
    "    hidden_layer_values = np.dot(model['W1'], change_in_frame)\n",
    "    hidden_layer_values[hidden_layer_values<0] = 0 # ReLU nonlinearity\n",
    "    log_probability = np.dot(model['W2'], hidden_layer_values)\n",
    "    up_prob = sigmoid(log_probability)\n",
    "    return up_prob, hidden_layer_values # return probability of taking action 2, and hidden state"
   ]
  },
  {
   "cell_type": "code",
   "execution_count": 5,
   "id": "d5a2893e",
   "metadata": {},
   "outputs": [],
   "source": [
    "# TODO: understand and rename (if needed) dh\n",
    "# dC_dw1: derivative of the cost / derivative of the weights 1 --> partial derivative\n",
    "# dC_dw2: derivative of the cost / derivative of the weights 2 --> partial derivative\n",
    "#comb_ep_hidden_layer_values.T and dh.T are the transposed matrices of comb_ep_hidden_layer_values and dh, respectively\n",
    "def policy_backward(comb_ep_hidden_layer_values, comb_ep_gradient_log_ps):\n",
    "    \"\"\" backward pass. (comb_ep_hidden_layer_values is array of intermediate hidden states) \"\"\"\n",
    "    dC_dw2 = np.dot(comb_ep_hidden_layer_values.T, comb_ep_gradient_log_ps).ravel()\n",
    "    dh = np.outer(comb_ep_gradient_log_ps, model['W2'])\n",
    "    dh[comb_ep_hidden_layer_values <= 0] = 0 # backpro prelu\n",
    "    dC_dw1 = np.dot(dh.T, comb_ep_observations) #Why is comb_ep_observations\n",
    "    return {'W1':dC_dw1, 'W2':dC_dw2}"
   ]
  },
  {
   "cell_type": "code",
   "execution_count": 9,
   "id": "2a9c18fa",
   "metadata": {
    "scrolled": false
   },
   "outputs": [
    {
     "name": "stdout",
     "output_type": "stream",
     "text": [
      "ep 0: game finished, reward: -1.000000\n",
      "ep 0: game finished, reward: -1.000000\n",
      "ep 0: game finished, reward: -1.000000\n",
      "ep 0: game finished, reward: -1.000000\n",
      "ep 0: game finished, reward: -1.000000\n",
      "ep 0: game finished, reward: -1.000000\n",
      "ep 0: game finished, reward: -1.000000\n",
      "ep 0: game finished, reward: -1.000000\n",
      "ep 0: game finished, reward: -1.000000\n",
      "ep 0: game finished, reward: -1.000000\n",
      "ep 0: game finished, reward: -1.000000\n",
      "ep 0: game finished, reward: -1.000000\n",
      "ep 0: game finished, reward: -1.000000\n",
      "ep 0: game finished, reward: 1.000000 !!!!!!!!\n",
      "ep 0: game finished, reward: -1.000000\n",
      "ep 0: game finished, reward: -1.000000\n",
      "ep 0: game finished, reward: -1.000000\n",
      "ep 0: game finished, reward: -1.000000\n",
      "ep 0: game finished, reward: -1.000000\n",
      "ep 0: game finished, reward: -1.000000\n",
      "ep 0: game finished, reward: -1.000000\n",
      "resetting env. episode reward total was -20.000000. running mean: -20.000000\n",
      "ep 1: game finished, reward: -1.000000\n",
      "ep 1: game finished, reward: -1.000000\n",
      "ep 1: game finished, reward: -1.000000\n",
      "ep 1: game finished, reward: -1.000000\n",
      "ep 1: game finished, reward: -1.000000\n",
      "ep 1: game finished, reward: -1.000000\n",
      "ep 1: game finished, reward: -1.000000\n",
      "ep 1: game finished, reward: -1.000000\n",
      "ep 1: game finished, reward: -1.000000\n",
      "ep 1: game finished, reward: -1.000000\n",
      "ep 1: game finished, reward: -1.000000\n",
      "ep 1: game finished, reward: -1.000000\n",
      "ep 1: game finished, reward: -1.000000\n",
      "ep 1: game finished, reward: -1.000000\n",
      "ep 1: game finished, reward: -1.000000\n",
      "ep 1: game finished, reward: -1.000000\n",
      "ep 1: game finished, reward: -1.000000\n",
      "ep 1: game finished, reward: -1.000000\n",
      "ep 1: game finished, reward: -1.000000\n",
      "ep 1: game finished, reward: -1.000000\n",
      "ep 1: game finished, reward: 1.000000 !!!!!!!!\n",
      "ep 1: game finished, reward: -1.000000\n"
     ]
    },
    {
     "name": "stderr",
     "output_type": "stream",
     "text": [
      "MovieWriter imagemagick unavailable; using Pillow instead.\n"
     ]
    },
    {
     "name": "stdout",
     "output_type": "stream",
     "text": [
      "resetting env. episode reward total was -20.000000. running mean: -20.000000\n",
      "ep 2: game finished, reward: -1.000000\n",
      "ep 2: game finished, reward: -1.000000\n",
      "ep 2: game finished, reward: -1.000000\n",
      "ep 2: game finished, reward: -1.000000\n",
      "ep 2: game finished, reward: -1.000000\n",
      "ep 2: game finished, reward: -1.000000\n",
      "ep 2: game finished, reward: -1.000000\n"
     ]
    },
    {
     "ename": "KeyboardInterrupt",
     "evalue": "",
     "output_type": "error",
     "traceback": [
      "\u001b[0;31m---------------------------------------------------------------------------\u001b[0m",
      "\u001b[0;31mKeyboardInterrupt\u001b[0m                         Traceback (most recent call last)",
      "\u001b[0;32m<ipython-input-9-4d35928e359d>\u001b[0m in \u001b[0;36m<module>\u001b[0;34m\u001b[0m\n\u001b[1;32m     20\u001b[0m \u001b[0;34m\u001b[0m\u001b[0m\n\u001b[1;32m     21\u001b[0m     \u001b[0;31m# preprocess the observation, set input to network to be difference image\u001b[0m\u001b[0;34m\u001b[0m\u001b[0;34m\u001b[0m\u001b[0;34m\u001b[0m\u001b[0m\n\u001b[0;32m---> 22\u001b[0;31m     \u001b[0mcurr_frame\u001b[0m \u001b[0;34m=\u001b[0m \u001b[0mprepro\u001b[0m\u001b[0;34m(\u001b[0m\u001b[0mobservation\u001b[0m\u001b[0;34m)\u001b[0m\u001b[0;34m\u001b[0m\u001b[0;34m\u001b[0m\u001b[0m\n\u001b[0m\u001b[1;32m     23\u001b[0m     \u001b[0mchange_in_frame\u001b[0m \u001b[0;34m=\u001b[0m \u001b[0mcurr_frame\u001b[0m \u001b[0;34m-\u001b[0m \u001b[0mprev_frame\u001b[0m \u001b[0;32mif\u001b[0m \u001b[0mprev_frame\u001b[0m \u001b[0;32mis\u001b[0m \u001b[0;32mnot\u001b[0m \u001b[0;32mNone\u001b[0m \u001b[0;32melse\u001b[0m \u001b[0mnp\u001b[0m\u001b[0;34m.\u001b[0m\u001b[0mzeros\u001b[0m\u001b[0;34m(\u001b[0m\u001b[0mgame_dimensions\u001b[0m\u001b[0;34m)\u001b[0m\u001b[0;34m\u001b[0m\u001b[0;34m\u001b[0m\u001b[0m\n\u001b[1;32m     24\u001b[0m     \u001b[0mprev_frame\u001b[0m \u001b[0;34m=\u001b[0m \u001b[0mcurr_frame\u001b[0m\u001b[0;34m\u001b[0m\u001b[0;34m\u001b[0m\u001b[0m\n",
      "\u001b[0;32m<ipython-input-4-7a85b4e85796>\u001b[0m in \u001b[0;36mprepro\u001b[0;34m(input_frame)\u001b[0m\n\u001b[1;32m     34\u001b[0m \u001b[0;32mdef\u001b[0m \u001b[0mprepro\u001b[0m\u001b[0;34m(\u001b[0m\u001b[0minput_frame\u001b[0m\u001b[0;34m)\u001b[0m\u001b[0;34m:\u001b[0m\u001b[0;34m\u001b[0m\u001b[0;34m\u001b[0m\u001b[0m\n\u001b[1;32m     35\u001b[0m     \u001b[0;34m\"\"\" prepro 210x160x3 uint8 frame into 6400 (80x80) 1D float vector \"\"\"\u001b[0m\u001b[0;34m\u001b[0m\u001b[0;34m\u001b[0m\u001b[0m\n\u001b[0;32m---> 36\u001b[0;31m     \u001b[0minput_frame\u001b[0m \u001b[0;34m=\u001b[0m \u001b[0minput_frame\u001b[0m\u001b[0;34m[\u001b[0m\u001b[0;36m34\u001b[0m\u001b[0;34m:\u001b[0m\u001b[0;36m194\u001b[0m\u001b[0;34m]\u001b[0m \u001b[0;31m# crop\u001b[0m\u001b[0;34m\u001b[0m\u001b[0;34m\u001b[0m\u001b[0m\n\u001b[0m\u001b[1;32m     37\u001b[0m     \u001b[0minput_frame\u001b[0m \u001b[0;34m=\u001b[0m \u001b[0minput_frame\u001b[0m\u001b[0;34m[\u001b[0m\u001b[0;34m:\u001b[0m\u001b[0;34m:\u001b[0m\u001b[0;36m2\u001b[0m\u001b[0;34m,\u001b[0m\u001b[0;34m:\u001b[0m\u001b[0;34m:\u001b[0m\u001b[0;36m2\u001b[0m\u001b[0;34m,\u001b[0m\u001b[0;36m0\u001b[0m\u001b[0;34m]\u001b[0m \u001b[0;31m# downsample by factor of 2 (halves the resolution of the image)\u001b[0m\u001b[0;34m\u001b[0m\u001b[0;34m\u001b[0m\u001b[0m\n\u001b[1;32m     38\u001b[0m     \u001b[0;31m#This takes every other pixel in the image\u001b[0m\u001b[0;34m\u001b[0m\u001b[0;34m\u001b[0m\u001b[0;34m\u001b[0m\u001b[0m\n",
      "\u001b[0;31mKeyboardInterrupt\u001b[0m: "
     ]
    },
    {
     "data": {
      "image/png": "[encoded data removed]",
      "text/plain": [
       "<Figure size 432x288 with 1 Axes>"
      ]
     },
     "metadata": {
      "needs_background": "light"
     },
     "output_type": "display_data"
    }
   ],
   "source": [
    "env = gym.make(\"Pong-v0\")\n",
    "observation = env.reset() # gets very first image of the game\n",
    "prev_frame = None # used in computing the difference frame \n",
    "ep_hidden_layer_values,ep_gradient_log_ps,ep_rewards,ep_change_in_frames = [],[],[],[]\n",
    "running_reward = None\n",
    "reward_sum = 0\n",
    "recordings = [1, 1000, 2000, 3000, 4000, 5000, 6000]\n",
    "temp = 1\n",
    "episode_number = 0\n",
    "count = 0\n",
    "frames = []\n",
    "\n",
    "while True:\n",
    "    if render: \n",
    "        env.render()\n",
    "        #time.sleep(0.1)\n",
    "    \n",
    "    if len(running_rewards) in recordings:\n",
    "        count += 1\n",
    "\n",
    "    # preprocess the observation, set input to network to be difference image\n",
    "    curr_frame = prepro(observation)\n",
    "    change_in_frame = curr_frame - prev_frame if prev_frame is not None else np.zeros(game_dimensions)\n",
    "    prev_frame = curr_frame\n",
    "    \n",
    "    if (ep_rewards.count(1) + ep_rewards.count(-1) <= 5) and count > 0: # Find a Way to do Last 5 Points\n",
    "        frames.append(observation)\n",
    "    \n",
    "    # forward the policy network and sample an action from the returned probability\n",
    "    up_prob, hidden_layer_values = policy_forward(change_in_frame)\n",
    "    action = 2 if np.random.uniform() < up_prob else 3 # roll the dice! Generates random probability. This is used for exploring\n",
    "\n",
    "    #2 means up and 3 means down\n",
    "\n",
    "    # record various intermediates (needed later for backprop)\n",
    "    ep_change_in_frames.append(change_in_frame) # observation\n",
    "    ep_hidden_layer_values.append(hidden_layer_values) # hidden state\n",
    "    y = 1 if action == 2 else 0 # a \"fake label\". Our paddle only take the values of 2 and 3 so we need this.\n",
    "    ep_gradient_log_ps.append(y - up_prob) # grad that encourages the action that was taken to be taken (see http://cs231n.github.io/neural-networks-2/#losses if confused)\n",
    "\n",
    "    #Stores error which is error of the cost\n",
    "\n",
    "    # step the environment and get new measurements\n",
    "    observation, reward, done, info = env.step(action) #This is where we tell our paddle to move up or down\n",
    "    reward_sum += reward\n",
    "\n",
    "    ep_rewards.append(reward) # record reward (has to be done after we call step() to get reward for previous action)\n",
    "\n",
    "    if done: # an episode finished\n",
    "        episode_number += 1\n",
    "\n",
    "        # stack together all inputs, hidden states, action gradients, and rewards for this episode\n",
    "        comb_ep_observations = np.vstack(ep_change_in_frames)\n",
    "        comb_ep_hidden_layer_values = np.vstack(ep_hidden_layer_values)\n",
    "        comb_ep_gradient_log_ps = np.vstack(ep_gradient_log_ps)\n",
    "        comb_ep_rewards = np.vstack(ep_rewards)\n",
    "        ep_hidden_layer_values,ep_gradient_log_ps,ep_rewards,ep_change_in_frames = [],[],[],[] # reset array memory\n",
    "\n",
    "        # compute the discounted reward backwards through time\n",
    "        discounted_comb_ep_rewards = discount_rewards(comb_ep_rewards) # comb_ep_rewards is an array of the rewards\n",
    "        # standardize the rewards to be unit normal (helps control the gradient estimator variance)\n",
    "        discounted_comb_ep_rewards -= np.mean(discounted_comb_ep_rewards) # calculates mean and subtracts from each value\n",
    "        discounted_comb_ep_rewards /= np.std(discounted_comb_ep_rewards)\n",
    "\n",
    "        comb_ep_gradient_log_ps *= discounted_comb_ep_rewards # modulate the gradient with advantage (PG magic happens right here.)\n",
    "\n",
    "        grad = policy_backward(comb_ep_hidden_layer_values, comb_ep_gradient_log_ps)\n",
    "        for k in model: grad_buffer[k] += grad[k] # accumulate grad over batch. Why?\n",
    "\n",
    "        # perform rmsprop parameter update every batch_size episodes\n",
    "        if episode_number % batch_size == 0:\n",
    "            for k,v in model.items():\n",
    "                g = grad_buffer[k] # gradient\n",
    "                rmsprop_cache[k] = decay_rate * rmsprop_cache[k] + (1 - decay_rate) * g**2\n",
    "                model[k] += learning_rate * g / (np.sqrt(rmsprop_cache[k]) + 1e-5)\n",
    "                grad_buffer[k] = np.zeros_like(v) # reset batch gradient buffer\n",
    "\n",
    "        # boring book-keeping\n",
    "\n",
    "        if len(running_rewards) > 0:\n",
    "            running_reward = running_rewards[-1]\n",
    "        \n",
    "        if len(running_rewards) != 0:\n",
    "            temp = 100\n",
    "        \n",
    "        if len(frames) > 0:\n",
    "            save_frames_as_gif(frames, filename = f'karpathyModelEp{len(running_rewards)}.gif')\n",
    "        \n",
    "        running_reward = reward_sum if running_reward is None else running_reward * 0.99 + reward_sum * 0.01 #What is this\n",
    "        running_rewards.append(running_reward)\n",
    "\n",
    "        with open(\"ControlRRLR1e-3.txt\", \"wb\") as fp:   #Pickling\n",
    "            pickle.dump(running_rewards, fp)\n",
    "\n",
    "        print ('resetting env. episode reward total was %f. running mean: %f' % (reward_sum, running_reward))\n",
    "        if episode_number % temp == 0: pickle.dump(model, open('save.p', 'wb'))\n",
    "        reward_sum = 0\n",
    "        observation = env.reset() # reset env\n",
    "        prev_frame = None\n",
    "               \n",
    "        count = 0\n",
    "        frames = []\n",
    "               \n",
    "        if len(running_rewards) == 6001:\n",
    "            break\n",
    "        \n",
    "    if reward != 0: # Pong has either +1 or -1 reward exactly when game ends.\n",
    "        print('ep %d: game finished, reward: %f' % (episode_number, reward) + ('' if reward == -1 else ' !!!!!!!!'))"
   ]
  },
  {
   "cell_type": "code",
   "execution_count": 27,
   "id": "3166fd31",
   "metadata": {},
   "outputs": [
    {
     "data": {
      "image/png": "[encoded data removed]",
      "text/plain": [
       "<Figure size 432x288 with 1 Axes>"
      ]
     },
     "metadata": {
      "needs_background": "light"
     },
     "output_type": "display_data"
    }
   ],
   "source": [
    "fig = plt.figure()\n",
    "plt.imshow(observation)\n",
    "plt.savefig(\"OriginalImage.png\")"
   ]
  },
  {
   "cell_type": "code",
   "execution_count": 28,
   "id": "a914e6f8",
   "metadata": {},
   "outputs": [
    {
     "data": {
      "image/png": "[encoded data removed]",
      "text/plain": [
       "<Figure size 432x288 with 1 Axes>"
      ]
     },
     "metadata": {
      "needs_background": "light"
     },
     "output_type": "display_data"
    }
   ],
   "source": [
    "fig1 = plt.figure()\n",
    "observation = observation[34:194]\n",
    "observation = observation[::3,::3,0] \n",
    "observation[observation == 144] = 0 \n",
    "observation[observation == 109] = 0 \n",
    "observation[observation != 0] = 1\n",
    "plt.imshow(observation)\n",
    "plt.savefig(\"NewImage.png\")"
   ]
  },
  {
   "cell_type": "code",
   "execution_count": 1,
   "id": "7f5dcfcc",
   "metadata": {},
   "outputs": [
    {
     "ename": "NameError",
     "evalue": "name 'ep_rewards' is not defined",
     "output_type": "error",
     "traceback": [
      "\u001b[0;31m---------------------------------------------------------------------------\u001b[0m",
      "\u001b[0;31mNameError\u001b[0m                                 Traceback (most recent call last)",
      "\u001b[0;32m<ipython-input-1-e3a508131677>\u001b[0m in \u001b[0;36m<module>\u001b[0;34m\u001b[0m\n\u001b[0;32m----> 1\u001b[0;31m \u001b[0mep_rewards\u001b[0m\u001b[0;34m\u001b[0m\u001b[0;34m\u001b[0m\u001b[0m\n\u001b[0m",
      "\u001b[0;31mNameError\u001b[0m: name 'ep_rewards' is not defined"
     ]
    }
   ],
   "source": [
    "ep_rewards"
   ]
  },
  {
   "cell_type": "code",
   "execution_count": null,
   "id": "d73c581e",
   "metadata": {},
   "outputs": [],
   "source": []
  }
 ],
 "metadata": {
  "kernelspec": {
   "display_name": "Python 3",
   "language": "python",
   "name": "python3"
  },
  "language_info": {
   "codemirror_mode": {
    "name": "ipython",
    "version": 3
   },
   "file_extension": ".py",
   "mimetype": "text/x-python",
   "name": "python",
   "nbconvert_exporter": "python",
   "pygments_lexer": "ipython3",
   "version": "3.8.8"
  }
 },
 "nbformat": 4,
 "nbformat_minor": 5
}
