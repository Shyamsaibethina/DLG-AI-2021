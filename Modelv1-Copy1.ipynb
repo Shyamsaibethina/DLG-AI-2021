{
 "cells": [
  {
   "cell_type": "markdown",
   "id": "8d2ce7a8",
   "metadata": {},
   "source": [
    "# Imports"
   ]
  },
  {
   "cell_type": "code",
   "execution_count": 9,
   "id": "9307b2fc",
   "metadata": {},
   "outputs": [],
   "source": [
    "import numpy as np\n",
    "import _pickle as pickle\n",
    "import gym\n",
    "import time\n",
    "import matplotlib.pyplot as plt\n",
    "import tensorflow as tf\n",
    "import tensorflow.keras.layers as layers\n",
    "import tensorflow.keras.initializers as initializers\n",
    "import random"
   ]
  },
  {
   "cell_type": "markdown",
   "id": "80608ff0",
   "metadata": {},
   "source": [
    "# Memory"
   ]
  },
  {
   "cell_type": "code",
   "execution_count": 10,
   "id": "fd89a440",
   "metadata": {},
   "outputs": [],
   "source": [
    "class Memory:\n",
    "    def __init__(self, max_memory):\n",
    "        self.max_memory = max_memory\n",
    "        self.samples = []\n",
    "    \n",
    "    def add_sample(self, sample):\n",
    "        self.samples.append(sample)\n",
    "        if len(self.samples) > self.max_memory:\n",
    "            self.samples.pop(0)\n",
    "            \n",
    "    def sample(self, no_samples):\n",
    "        if no_samples > len(self.samples):\n",
    "            return random.sample(self.samples, len(self.samples))\n",
    "        else:\n",
    "            return random.sample(self.samples, no_samples)"
   ]
  },
  {
   "cell_type": "markdown",
   "id": "4c82be43",
   "metadata": {},
   "source": [
    "# Model"
   ]
  },
  {
   "cell_type": "code",
   "execution_count": 11,
   "id": "bc6a6e2f",
   "metadata": {},
   "outputs": [],
   "source": [
    "initializer = initializers.GlorotNormal\n",
    "\n",
    "x_in = layers.Input(shape = (6400,))\n",
    "x = layers.Dense(200, kernel_initializer= initializer, activation=\"relu\")(x_in)\n",
    "x_out = layers.Dense(1, activation=\"sigmoid\")(x)\n",
    "\n",
    "model = tf.keras.Model(x_in, x_out) # Use this for fitting as epsilon will bring it all over the damm place\n",
    "\n",
    "model.compile(optimizer = \"adam\", loss = \"mse\", metrics = [\"acc\"])"
   ]
  },
  {
   "cell_type": "code",
   "execution_count": 12,
   "id": "06b96ee6",
   "metadata": {},
   "outputs": [],
   "source": [
    "target_model = model # Use this one for prediction to have some semblence of consistency\n",
    "\n",
    "target_model.set_weights(model.get_weights())"
   ]
  },
  {
   "cell_type": "code",
   "execution_count": 5,
   "id": "1255fdd0",
   "metadata": {
    "scrolled": true
   },
   "outputs": [
    {
     "name": "stdout",
     "output_type": "stream",
     "text": [
      "Model: \"model\"\n",
      "_________________________________________________________________\n",
      "Layer (type)                 Output Shape              Param #   \n",
      "=================================================================\n",
      "input_1 (InputLayer)         [(None, 6400)]            0         \n",
      "_________________________________________________________________\n",
      "dense (Dense)                (None, 200)               1280200   \n",
      "_________________________________________________________________\n",
      "dense_1 (Dense)              (None, 1)                 201       \n",
      "=================================================================\n",
      "Total params: 1,280,401\n",
      "Trainable params: 1,280,401\n",
      "Non-trainable params: 0\n",
      "_________________________________________________________________\n"
     ]
    }
   ],
   "source": [
    "model.summary()"
   ]
  },
  {
   "cell_type": "markdown",
   "id": "66923ea3",
   "metadata": {},
   "source": [
    "# GameRunner"
   ]
  },
  {
   "cell_type": "code",
   "execution_count": 25,
   "id": "ac71a467",
   "metadata": {},
   "outputs": [],
   "source": [
    "class GameRunner:\n",
    "    def __init__(self, env, model, target_model, memory, epsilon, max_eps, min_eps, game_dimensions, epsilon_greedy_frames, resume = False, render = True):\n",
    "        self.env = env\n",
    "        self.model = model\n",
    "        self.target_model = target_model\n",
    "        self.memory = memory\n",
    "        self.eps = epsilon\n",
    "        self.max_eps = max_eps\n",
    "        self.min_eps = min_eps\n",
    "        self.render = render\n",
    "        self.resume = resume\n",
    "        self.epsilon_greedy_frames = epsilon_greedy_frames\n",
    "        self.gameDimensions = game_dimensions\n",
    "        self.rewards = []\n",
    "        self.max_x = []\n",
    "    \n",
    "    def run(self):\n",
    "        observation = self.env.reset()\n",
    "        reward_sum = 0\n",
    "        running_reward = None\n",
    "        prev_frame = None\n",
    "        episode_number = 0\n",
    "        \n",
    "        while True:\n",
    "            if self.render:\n",
    "                env.render()\n",
    "\n",
    "            if self.resume:\n",
    "                self.model.load_weights(\"ModelWeights\")\n",
    "            \n",
    "            curr_frame = self.prepro(observation)\n",
    "            # change_in_frame = curr_frame - prev_frame if prev_frame is not None else np.zeros(self.gameDimensions)\n",
    "            \n",
    "            action = self.choose_action(curr_frame)\n",
    "            \n",
    "            observation, reward, done, _ = self.env.step(3) \n",
    "            \n",
    "            next_frame = self.prepro(observation)\n",
    "            \n",
    "            y = 1 if action == 2 else 0\n",
    "            \n",
    "            curr_frame = next_frame\n",
    "            \n",
    "            self.memory.add_sample((curr_frame, y, reward, next_frame, done))\n",
    "            self.replay(done)\n",
    "            \n",
    "            if episode_number % 10 == 0: # Probably should adjust this number\n",
    "                self.target_model.set_weights(self.model.get_weights())\n",
    "                self.target_model.save_weights(\"ModelWeights\")\n",
    "            \n",
    "            # Decay probability of taking random action\n",
    "            epsilon_interval = (self.max_eps - self.min_eps)\n",
    "            self.eps -= epsilon_interval / self.epsilon_greedy_frames\n",
    "            self.eps = max(self.eps, self.min_eps)\n",
    "            \n",
    "            reward_sum += reward\n",
    "            \n",
    "            if done:\n",
    "                running_reward = reward_sum if running_reward is None else running_reward * 0.99 + reward_sum * 0.01\n",
    "                print ('resetting env. episode reward total was %f. running mean: %f' % (reward_sum, running_reward))\n",
    "                reward_sum = 0\n",
    "                observation = env.reset() # reset env\n",
    "                prev_frame = None\n",
    "                episode_number += 1\n",
    "\n",
    "            if reward != 0: # Pong has either +1 or -1 reward exactly when game ends.\n",
    "                print('ep %d: game finished, reward: %f, epsilon: %g' % (episode_number, reward, self.eps) + ('' if reward == -1 else ' !!!!!!!!'))\n",
    "                \n",
    "    def choose_action(self, state):\n",
    "        if np.random.random() < self.eps:\n",
    "                return np.random.randint(2, 4)\n",
    "        else:\n",
    "            state = state.reshape((1,6400))\n",
    "            up_prob = self.target_model.predict(state)\n",
    "            if up_prob >= .5:\n",
    "                return 2\n",
    "            else:\n",
    "                return 3\n",
    "            \n",
    "    def prepro(self, input_frame):\n",
    "        \"\"\" prepro 210x160x3 uint8 frame into 6400 (80x80) 1D float vector \"\"\"\n",
    "        input_frame = input_frame[34:194] # crop\n",
    "        input_frame = input_frame[::2,::2,0] # downsample by factor of 2 (halves the resolution of the image)\n",
    "        #This takes every other pixel in the image\n",
    "        input_frame[input_frame == 144] = 0 # erase background (background type 1)\n",
    "        input_frame[input_frame == 109] = 0 # erase background (background type 2)\n",
    "        input_frame[input_frame != 0] = 1 # everything else (paddles, ball) just set to 1\n",
    "        return input_frame.astype(np.float).ravel()\n",
    "    \n",
    "    def replay(self, terminal_state):\n",
    "        gamma = 0.99\n",
    "        batches = self.memory.sample(500)\n",
    "        states = np.array([val[0] for val in batches])\n",
    "        rewards = np.array([val[2] for val in batches])\n",
    "        new_current_states = np.array([val[3] for val in batches])\n",
    "        print(len(new_current_states), 'new current states')\n",
    "        print(len(batches),'batches')\n",
    "        \n",
    "        q_s_a = self.model.predict(states)\n",
    "        \n",
    "        future_q_s_a = self.target_model.predict(new_current_states)\n",
    "        \n",
    "        x = []\n",
    "        y = []\n",
    "        \n",
    "        for i, b in enumerate(batches):\n",
    "            current_state, action, reward, new_state = b[0], b[1], b[2], b[3]\n",
    "            \n",
    "            if not b[4]:\n",
    "                max_future_q = np.max(future_q_s_a[i])\n",
    "                print(len(future_q_s_a))\n",
    "                print(future_q_s_a)\n",
    "                new_q = reward + gamma * max_future_q\n",
    "            else:\n",
    "                new_q = reward\n",
    "            \n",
    "            current_qs = q_s_a[0]\n",
    "            current_qs[0] = new_q\n",
    "            \n",
    "            x.append(current_state)\n",
    "            y.append(current_qs)\n",
    "        \n",
    "        self.model.fit(np.asarray(x),np.asarray(y), batch_size = len(batches), verbose = 1 if terminal_state else None)"
   ]
  },
  {
   "cell_type": "markdown",
   "id": "80214764",
   "metadata": {},
   "source": [
    "# Hyperparamters"
   ]
  },
  {
   "cell_type": "code",
   "execution_count": 26,
   "id": "0ee3e20c",
   "metadata": {},
   "outputs": [],
   "source": [
    "batch_size = 10"
   ]
  },
  {
   "cell_type": "markdown",
   "id": "134324ec",
   "metadata": {},
   "source": [
    "# Main Code"
   ]
  },
  {
   "cell_type": "code",
   "execution_count": 27,
   "id": "20b133ac",
   "metadata": {
    "scrolled": true
   },
   "outputs": [
    {
     "name": "stdout",
     "output_type": "stream",
     "text": [
      "1 new current states\n",
      "1 batches\n",
      "1\n",
      "[[0.49999934]]\n",
      "2 new current states\n",
      "2 batches\n",
      "1\n",
      "[[0.4999997]]\n"
     ]
    },
    {
     "name": "stderr",
     "output_type": "stream",
     "text": [
      "/var/folders/yg/l9jkh13d6bbgrh7g2fd0b_540000gn/T/ipykernel_74167/1806562875.py:88: DeprecationWarning: `np.float` is a deprecated alias for the builtin `float`. To silence this warning, use `float` by itself. Doing this will not modify any behavior and is safe. If you specifically wanted the numpy scalar type, use `np.float64` here.\n",
      "Deprecated in NumPy 1.20; for more details and guidance: https://numpy.org/devdocs/release/1.20.0-notes.html#deprecations\n",
      "  return input_frame.astype(np.float).ravel()\n"
     ]
    },
    {
     "ename": "IndexError",
     "evalue": "index 1 is out of bounds for axis 0 with size 1",
     "output_type": "error",
     "traceback": [
      "\u001b[0;31m---------------------------------------------------------------------------\u001b[0m",
      "\u001b[0;31mIndexError\u001b[0m                                Traceback (most recent call last)",
      "\u001b[0;32m/var/folders/yg/l9jkh13d6bbgrh7g2fd0b_540000gn/T/ipykernel_74167/46040566.py\u001b[0m in \u001b[0;36m<module>\u001b[0;34m\u001b[0m\n\u001b[1;32m     12\u001b[0m \u001b[0mgr\u001b[0m \u001b[0;34m=\u001b[0m \u001b[0mGameRunner\u001b[0m\u001b[0;34m(\u001b[0m\u001b[0menv\u001b[0m\u001b[0;34m,\u001b[0m \u001b[0mmodel\u001b[0m\u001b[0;34m,\u001b[0m \u001b[0mtarget_model\u001b[0m\u001b[0;34m,\u001b[0m \u001b[0mmem\u001b[0m\u001b[0;34m,\u001b[0m \u001b[0meps\u001b[0m\u001b[0;34m,\u001b[0m \u001b[0mmax_eps\u001b[0m\u001b[0;34m,\u001b[0m \u001b[0mmin_eps\u001b[0m\u001b[0;34m,\u001b[0m \u001b[0mgame_dimensions\u001b[0m\u001b[0;34m,\u001b[0m \u001b[0meps_greedy_frames\u001b[0m\u001b[0;34m,\u001b[0m \u001b[0mresume\u001b[0m \u001b[0;34m=\u001b[0m \u001b[0;32mFalse\u001b[0m\u001b[0;34m,\u001b[0m \u001b[0mrender\u001b[0m \u001b[0;34m=\u001b[0m \u001b[0;32mFalse\u001b[0m\u001b[0;34m)\u001b[0m\u001b[0;34m\u001b[0m\u001b[0;34m\u001b[0m\u001b[0m\n\u001b[1;32m     13\u001b[0m \u001b[0;34m\u001b[0m\u001b[0m\n\u001b[0;32m---> 14\u001b[0;31m \u001b[0mgr\u001b[0m\u001b[0;34m.\u001b[0m\u001b[0mrun\u001b[0m\u001b[0;34m(\u001b[0m\u001b[0;34m)\u001b[0m\u001b[0;34m\u001b[0m\u001b[0;34m\u001b[0m\u001b[0m\n\u001b[0m",
      "\u001b[0;32m/var/folders/yg/l9jkh13d6bbgrh7g2fd0b_540000gn/T/ipykernel_74167/1806562875.py\u001b[0m in \u001b[0;36mrun\u001b[0;34m(self)\u001b[0m\n\u001b[1;32m     43\u001b[0m \u001b[0;34m\u001b[0m\u001b[0m\n\u001b[1;32m     44\u001b[0m             \u001b[0mself\u001b[0m\u001b[0;34m.\u001b[0m\u001b[0mmemory\u001b[0m\u001b[0;34m.\u001b[0m\u001b[0madd_sample\u001b[0m\u001b[0;34m(\u001b[0m\u001b[0;34m(\u001b[0m\u001b[0mcurr_frame\u001b[0m\u001b[0;34m,\u001b[0m \u001b[0my\u001b[0m\u001b[0;34m,\u001b[0m \u001b[0mreward\u001b[0m\u001b[0;34m,\u001b[0m \u001b[0mnext_frame\u001b[0m\u001b[0;34m,\u001b[0m \u001b[0mdone\u001b[0m\u001b[0;34m)\u001b[0m\u001b[0;34m)\u001b[0m\u001b[0;34m\u001b[0m\u001b[0;34m\u001b[0m\u001b[0m\n\u001b[0;32m---> 45\u001b[0;31m             \u001b[0mself\u001b[0m\u001b[0;34m.\u001b[0m\u001b[0mreplay\u001b[0m\u001b[0;34m(\u001b[0m\u001b[0mdone\u001b[0m\u001b[0;34m)\u001b[0m\u001b[0;34m\u001b[0m\u001b[0;34m\u001b[0m\u001b[0m\n\u001b[0m\u001b[1;32m     46\u001b[0m \u001b[0;34m\u001b[0m\u001b[0m\n\u001b[1;32m     47\u001b[0m             \u001b[0;32mif\u001b[0m \u001b[0mepisode_number\u001b[0m \u001b[0;34m%\u001b[0m \u001b[0;36m10\u001b[0m \u001b[0;34m==\u001b[0m \u001b[0;36m0\u001b[0m\u001b[0;34m:\u001b[0m \u001b[0;31m# Probably should adjust this number\u001b[0m\u001b[0;34m\u001b[0m\u001b[0;34m\u001b[0m\u001b[0m\n",
      "\u001b[0;32m/var/folders/yg/l9jkh13d6bbgrh7g2fd0b_540000gn/T/ipykernel_74167/1806562875.py\u001b[0m in \u001b[0;36mreplay\u001b[0;34m(self, terminal_state)\u001b[0m\n\u001b[1;32m    108\u001b[0m \u001b[0;34m\u001b[0m\u001b[0m\n\u001b[1;32m    109\u001b[0m             \u001b[0;32mif\u001b[0m \u001b[0;32mnot\u001b[0m \u001b[0mb\u001b[0m\u001b[0;34m[\u001b[0m\u001b[0;36m4\u001b[0m\u001b[0;34m]\u001b[0m\u001b[0;34m:\u001b[0m\u001b[0;34m\u001b[0m\u001b[0;34m\u001b[0m\u001b[0m\n\u001b[0;32m--> 110\u001b[0;31m                 \u001b[0mmax_future_q\u001b[0m \u001b[0;34m=\u001b[0m \u001b[0mnp\u001b[0m\u001b[0;34m.\u001b[0m\u001b[0mmax\u001b[0m\u001b[0;34m(\u001b[0m\u001b[0mfuture_q_s_a\u001b[0m\u001b[0;34m[\u001b[0m\u001b[0mi\u001b[0m\u001b[0;34m]\u001b[0m\u001b[0;34m)\u001b[0m\u001b[0;34m\u001b[0m\u001b[0;34m\u001b[0m\u001b[0m\n\u001b[0m\u001b[1;32m    111\u001b[0m                 \u001b[0mprint\u001b[0m\u001b[0;34m(\u001b[0m\u001b[0mlen\u001b[0m\u001b[0;34m(\u001b[0m\u001b[0mfuture_q_s_a\u001b[0m\u001b[0;34m)\u001b[0m\u001b[0;34m)\u001b[0m\u001b[0;34m\u001b[0m\u001b[0;34m\u001b[0m\u001b[0m\n\u001b[1;32m    112\u001b[0m                 \u001b[0mprint\u001b[0m\u001b[0;34m(\u001b[0m\u001b[0mfuture_q_s_a\u001b[0m\u001b[0;34m)\u001b[0m\u001b[0;34m\u001b[0m\u001b[0;34m\u001b[0m\u001b[0m\n",
      "\u001b[0;31mIndexError\u001b[0m: index 1 is out of bounds for axis 0 with size 1"
     ]
    }
   ],
   "source": [
    "env = gym.make(\"Pong-v0\")\n",
    "\n",
    "mem = Memory(50_000)\n",
    "\n",
    "eps = 1.0\n",
    "max_eps = 1.0\n",
    "min_eps = 0.000001\n",
    "eps_greedy_frames = 100000.0\n",
    "\n",
    "game_dimensions = 80*80\n",
    "\n",
    "gr = GameRunner(env, model, target_model, mem, eps, max_eps, min_eps, game_dimensions, eps_greedy_frames, resume = False, render = False)\n",
    "\n",
    "gr.run()"
   ]
  },
  {
   "cell_type": "code",
   "execution_count": 5,
   "id": "65297049",
   "metadata": {
    "scrolled": true
   },
   "outputs": [
    {
     "data": {
      "text/plain": [
       "Box(0, 255, (210, 160, 3), uint8)"
      ]
     },
     "execution_count": 5,
     "metadata": {},
     "output_type": "execute_result"
    }
   ],
   "source": [
    "env.observation_space"
   ]
  },
  {
   "cell_type": "code",
   "execution_count": 6,
   "id": "598a29fc",
   "metadata": {},
   "outputs": [
    {
     "data": {
      "text/plain": [
       "['NOOP', 'FIRE', 'RIGHT', 'LEFT', 'RIGHTFIRE', 'LEFTFIRE']"
      ]
     },
     "execution_count": 6,
     "metadata": {},
     "output_type": "execute_result"
    }
   ],
   "source": [
    "env.unwrapped.get_action_meanings()\n",
    "\n",
    "# NOOP is the same as FIRE (standing still)\n",
    "# LEFT is the same as LEFTFIRE (down)\n",
    "# RIGHT is the same as RIGHTFIRE (up)"
   ]
  },
  {
   "cell_type": "code",
   "execution_count": 8,
   "id": "703c3f93",
   "metadata": {},
   "outputs": [
    {
     "data": {
      "text/plain": [
       "{(): 0, (32,): 1, (100,): 2, (97,): 3, (32, 100): 4, (32, 97): 5}"
      ]
     },
     "execution_count": 8,
     "metadata": {},
     "output_type": "execute_result"
    }
   ],
   "source": [
    "env.unwrapped.get_keys_to_action()"
   ]
  }
 ],
 "metadata": {
  "kernelspec": {
   "display_name": "Python 3 (ipykernel)",
   "language": "python",
   "name": "python3"
  },
  "language_info": {
   "codemirror_mode": {
    "name": "ipython",
    "version": 3
   },
   "file_extension": ".py",
   "mimetype": "text/x-python",
   "name": "python",
   "nbconvert_exporter": "python",
   "pygments_lexer": "ipython3",
   "version": "3.8.10"
  }
 },
 "nbformat": 4,
 "nbformat_minor": 5
}
